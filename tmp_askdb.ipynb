{
 "cells": [
  {
   "cell_type": "code",
   "execution_count": 1,
   "metadata": {},
   "outputs": [
    {
     "data": {
      "text/plain": [
       "<torch.cuda.device at 0x7f41acec47b8>"
      ]
     },
     "execution_count": 1,
     "metadata": {},
     "output_type": "execute_result"
    }
   ],
   "source": [
    "import fastai\n",
    "from fastai import learner\n",
    "from fastai import dataset\n",
    "from fastai import model\n",
    "from fastai.model import resnet34\n",
    "from pathlib import Path\n",
    "from fastai.text import *\n",
    "\n",
    "import pandas as pd\n",
    "import numpy as np\n",
    "import spacy\n",
    "import json\n",
    "import re\n",
    "import html\n",
    "\n",
    "torch.cuda.device(0)"
   ]
  },
  {
   "cell_type": "code",
   "execution_count": 38,
   "metadata": {},
   "outputs": [],
   "source": [
    "spac_tok = spacy.load(\"en\")"
   ]
  },
  {
   "cell_type": "code",
   "execution_count": 2,
   "metadata": {},
   "outputs": [
    {
     "data": {
      "text/plain": [
       "0"
      ]
     },
     "execution_count": 2,
     "metadata": {},
     "output_type": "execute_result"
    }
   ],
   "source": [
    "torch.cuda.current_device()"
   ]
  },
  {
   "cell_type": "code",
   "execution_count": 4,
   "metadata": {},
   "outputs": [],
   "source": [
    "PATH = Path(\"data/nlidb-datasets/\")"
   ]
  },
  {
   "cell_type": "code",
   "execution_count": 5,
   "metadata": {},
   "outputs": [],
   "source": [
    "sql_train = json.load((PATH/\"SENLIDB\"/\"train.json\").open())\n",
    "sql_test = json.load((PATH/\"SENLIDB\"/\"test.json\").open())"
   ]
  },
  {
   "cell_type": "code",
   "execution_count": 6,
   "metadata": {},
   "outputs": [
    {
     "data": {
      "text/plain": [
       "{'annotations': [{'annotation': 'List the top 50000 posts that have been viewed more than 10000 times ordered by the number of views descending',\n",
       "   'annotator_id': 1},\n",
       "  {'annotation': 'Get the most viewed 50000 posts that have the number of views higher than 10000, ordered by the count of views',\n",
       "   'annotator_id': 1},\n",
       "  {'annotation': 'show top 50000 posts which have more than 10000 views',\n",
       "   'annotator_id': 2},\n",
       "  {'annotation': 'select top 50000 posts that have over 10000 ordered descending',\n",
       "   'annotator_id': 2}],\n",
       " 'comments': [],\n",
       " 'description': '',\n",
       " 'id': '641175',\n",
       " 'sql': 'select top 50000 * from posts where posts.ViewCount > 10000 ORDER BY posts.ViewCount desc',\n",
       " 'sql_plain': 'select top 50000 * from posts where posts.ViewCount > 10000 ORDER BY posts.ViewCount desc',\n",
       " 'title': '10000',\n",
       " 'url': 'http://data.stackexchange.com/stackoverflow/revision/641175/800950/10000'}"
      ]
     },
     "execution_count": 6,
     "metadata": {},
     "output_type": "execute_result"
    }
   ],
   "source": [
    "sql_test[0]"
   ]
  },
  {
   "cell_type": "code",
   "execution_count": 7,
   "metadata": {},
   "outputs": [],
   "source": [
    "def DataFrameCreate(jsondata):\n",
    "    sql_plain = []\n",
    "    title = []\n",
    "    for i,o in enumerate(jsondata):\n",
    "        sql_plain.append(o[\"sql_plain\"])\n",
    "        title.append(o[\"title\"])\n",
    "    df = pd.DataFrame({\"title\":title, \"sql_plain\":sql_plain}, columns={\"title\", \"sql_plain\"})\n",
    "    return df"
   ]
  },
  {
   "cell_type": "code",
   "execution_count": 9,
   "metadata": {},
   "outputs": [],
   "source": [
    "df_trn = DataFrameCreate(sql_train)\n",
    "df_test= DataFrameCreate(sql_test)"
   ]
  },
  {
   "cell_type": "code",
   "execution_count": 10,
   "metadata": {
    "scrolled": true
   },
   "outputs": [
    {
     "data": {
      "text/html": [
       "<div>\n",
       "<style scoped>\n",
       "    .dataframe tbody tr th:only-of-type {\n",
       "        vertical-align: middle;\n",
       "    }\n",
       "\n",
       "    .dataframe tbody tr th {\n",
       "        vertical-align: top;\n",
       "    }\n",
       "\n",
       "    .dataframe thead th {\n",
       "        text-align: right;\n",
       "    }\n",
       "</style>\n",
       "<table border=\"1\" class=\"dataframe\">\n",
       "  <thead>\n",
       "    <tr style=\"text-align: right;\">\n",
       "      <th></th>\n",
       "      <th>title</th>\n",
       "      <th>sql_plain</th>\n",
       "    </tr>\n",
       "  </thead>\n",
       "  <tbody>\n",
       "    <tr>\n",
       "      <th>0</th>\n",
       "      <td>Repent 151-160</td>\n",
       "      <td>SELECT \\np.Title,p.score,p.ViewCount,p.AnswerC...</td>\n",
       "    </tr>\n",
       "    <tr>\n",
       "      <th>1</th>\n",
       "      <td>This is test data for my question to make thin...</td>\n",
       "      <td>-- This is test data for my question to make t...</td>\n",
       "    </tr>\n",
       "    <tr>\n",
       "      <th>2</th>\n",
       "      <td>Accept answer</td>\n",
       "      <td>select Id\\nfrom Comments \\nwhere lower(Text) l...</td>\n",
       "    </tr>\n",
       "    <tr>\n",
       "      <th>3</th>\n",
       "      <td>Questions with most views created within 3 mon...</td>\n",
       "      <td>DECLARE @From DATETIME = convert(DATETIME, '##...</td>\n",
       "    </tr>\n",
       "    <tr>\n",
       "      <th>4</th>\n",
       "      <td>Most Prolific Answers</td>\n",
       "      <td>-- Most Prolific Answerers (with score)\\n-- Sh...</td>\n",
       "    </tr>\n",
       "    <tr>\n",
       "      <th>5</th>\n",
       "      <td>Questions with the default image text</td>\n",
       "      <td>SELECT Id AS [Post Link], Tags, Score FROM Pos...</td>\n",
       "    </tr>\n",
       "    <tr>\n",
       "      <th>6</th>\n",
       "      <td>Questions with most delete votes</td>\n",
       "      <td>select top 100 p.Id as [Post Link], max(p.Scor...</td>\n",
       "    </tr>\n",
       "    <tr>\n",
       "      <th>7</th>\n",
       "      <td>Fastest answers</td>\n",
       "      <td>SELECT TOP 100\\n  q.OwnerUserId AS [User Link]...</td>\n",
       "    </tr>\n",
       "    <tr>\n",
       "      <th>8</th>\n",
       "      <td>Bounty distibution</td>\n",
       "      <td>with bounty_questions as (\\n  select max(1.0*a...</td>\n",
       "    </tr>\n",
       "    <tr>\n",
       "      <th>9</th>\n",
       "      <td>Is there a SEDE query to find number of up vot...</td>\n",
       "      <td>select count(*)\\nfrom votes v \\ninner join pos...</td>\n",
       "    </tr>\n",
       "    <tr>\n",
       "      <th>10</th>\n",
       "      <td>User's Post Age</td>\n",
       "      <td>Select ntile(10) over (Order by DateDiff(d, Cr...</td>\n",
       "    </tr>\n",
       "    <tr>\n",
       "      <th>11</th>\n",
       "      <td>Generic Query for Trending Multiple Tags</td>\n",
       "      <td>--Get the Tag IDs that you are interested in f...</td>\n",
       "    </tr>\n",
       "    <tr>\n",
       "      <th>12</th>\n",
       "      <td>User Profile Test</td>\n",
       "      <td>DECLARE @userID numeric = ##UserID##\\n\\nSELECT...</td>\n",
       "    </tr>\n",
       "    <tr>\n",
       "      <th>13</th>\n",
       "      <td>C# Gold bearers from India</td>\n",
       "      <td>WITH data\\n     AS (SELECT Rank() OVER (PARTIT...</td>\n",
       "    </tr>\n",
       "    <tr>\n",
       "      <th>14</th>\n",
       "      <td>find duplicate questions</td>\n",
       "      <td>-- TagName: Filter questions by this tag. Leav...</td>\n",
       "    </tr>\n",
       "    <tr>\n",
       "      <th>15</th>\n",
       "      <td>crate mine questions</td>\n",
       "      <td>select dateadd(month, datediff(month, 0, q.Cre...</td>\n",
       "    </tr>\n",
       "    <tr>\n",
       "      <th>16</th>\n",
       "      <td>Users with highst number of combined Views</td>\n",
       "      <td>-- Users with highst number of combined Views\\...</td>\n",
       "    </tr>\n",
       "    <tr>\n",
       "      <th>17</th>\n",
       "      <td>Users average score.</td>\n",
       "      <td>-- Users sorted by average score.\\n-- Votes pe...</td>\n",
       "    </tr>\n",
       "    <tr>\n",
       "      <th>18</th>\n",
       "      <td>Posts Table</td>\n",
       "      <td>--Create Customer Temp table\\nCREATE TABLE #Cu...</td>\n",
       "    </tr>\n",
       "    <tr>\n",
       "      <th>19</th>\n",
       "      <td>Questions with no accepted answer</td>\n",
       "      <td>-- Enter Query Title\\n-- Enter Query Descripti...</td>\n",
       "    </tr>\n",
       "    <tr>\n",
       "      <th>20</th>\n",
       "      <td>Roads API questions SBT</td>\n",
       "      <td>select i.Id, i.CreationDate, i.Title, i.Tags, ...</td>\n",
       "    </tr>\n",
       "    <tr>\n",
       "      <th>21</th>\n",
       "      <td>Most Posts</td>\n",
       "      <td>SELECT P.Id FROM POSTS AS P, USERS AS U</td>\n",
       "    </tr>\n",
       "    <tr>\n",
       "      <th>22</th>\n",
       "      <td>Lowest Rep/Post</td>\n",
       "      <td>WITH TotalRep\\nAS\\n(\\n  SELECT \\n  P.OwnerUser...</td>\n",
       "    </tr>\n",
       "    <tr>\n",
       "      <th>23</th>\n",
       "      <td>OP edits of a question after closure</td>\n",
       "      <td>select top 10 \\n  p.Id [Post Link]\\nfrom Posts...</td>\n",
       "    </tr>\n",
       "    <tr>\n",
       "      <th>24</th>\n",
       "      <td>Top 100 posts with the most comments</td>\n",
       "      <td>SELECT TOP 20 Posts.Id as [Post Link], Comment...</td>\n",
       "    </tr>\n",
       "    <tr>\n",
       "      <th>25</th>\n",
       "      <td>All-uppercase Stack Overflow questions asked i...</td>\n",
       "      <td>SELECT PostId AS [Post Link],\\n       'http://...</td>\n",
       "    </tr>\n",
       "    <tr>\n",
       "      <th>26</th>\n",
       "      <td>Get User Info (Total answers and Accepted Answ...</td>\n",
       "      <td>-- Get User(s) Info\\n-- Returns the URL with t...</td>\n",
       "    </tr>\n",
       "    <tr>\n",
       "      <th>27</th>\n",
       "      <td>downvotes by user</td>\n",
       "      <td>declare @user_id int = ##UserId:int##\\n\\nSELEC...</td>\n",
       "    </tr>\n",
       "    <tr>\n",
       "      <th>28</th>\n",
       "      <td>My Top N Most Upvoted Comments</td>\n",
       "      <td>SELECT  * FROM Users \\nWHERE (Age = 39 and Loc...</td>\n",
       "    </tr>\n",
       "    <tr>\n",
       "      <th>29</th>\n",
       "      <td>Ezm test foo</td>\n",
       "      <td>select top(100) p.Id, p2.Id, p2.ParentId, p2.*...</td>\n",
       "    </tr>\n",
       "    <tr>\n",
       "      <th>...</th>\n",
       "      <td>...</td>\n",
       "      <td>...</td>\n",
       "    </tr>\n",
       "    <tr>\n",
       "      <th>24564</th>\n",
       "      <td>High-Scoring Questions with Accepted Answers, ...</td>\n",
       "      <td>-- This query uses JOINs to show question scor...</td>\n",
       "    </tr>\n",
       "    <tr>\n",
       "      <th>24565</th>\n",
       "      <td>Proof that there are spaces</td>\n",
       "      <td>SELECT TOP 10 Body\\nFROM   Posts\\nWHERE  Owner...</td>\n",
       "    </tr>\n",
       "    <tr>\n",
       "      <th>24566</th>\n",
       "      <td>Posts (Answers) based on a given tag</td>\n",
       "      <td>select DATENAME(yyyy, p.LastActivityDate) AS Y...</td>\n",
       "    </tr>\n",
       "    <tr>\n",
       "      <th>24567</th>\n",
       "      <td>Percentage of questions with at least one answ...</td>\n",
       "      <td>SELECT\\n  DATEPART(week,CreationDate),\\n  CAST...</td>\n",
       "    </tr>\n",
       "    <tr>\n",
       "      <th>24568</th>\n",
       "      <td>Tag Size and Growth Trends</td>\n",
       "      <td>DECLARE @Last30 datetime = '12/15/2012'\\n\\nSEL...</td>\n",
       "    </tr>\n",
       "    <tr>\n",
       "      <th>24569</th>\n",
       "      <td>Deleted questions by month for specified tag</td>\n",
       "      <td>DECLARE @tagcond nvarchar(25) = concat('%', ##...</td>\n",
       "    </tr>\n",
       "    <tr>\n",
       "      <th>24570</th>\n",
       "      <td>Get answers with the most closed votes</td>\n",
       "      <td>SELECT TOP 10 Posts.Id, ParentId, Count(*) AS ...</td>\n",
       "    </tr>\n",
       "    <tr>\n",
       "      <th>24571</th>\n",
       "      <td>Vocabulary Only Questions 2016</td>\n",
       "      <td>select \\ntitle, \\nid as [Post Link], \\ntags, c...</td>\n",
       "    </tr>\n",
       "    <tr>\n",
       "      <th>24572</th>\n",
       "      <td>How rare are my badges?</td>\n",
       "      <td>SELECT     mine.name AS [Badge Name],\\n       ...</td>\n",
       "    </tr>\n",
       "    <tr>\n",
       "      <th>24573</th>\n",
       "      <td>Get other tags used with a tag</td>\n",
       "      <td>SELECT\\n  t2.tagname AS TagName,\\n  count(*) A...</td>\n",
       "    </tr>\n",
       "    <tr>\n",
       "      <th>24574</th>\n",
       "      <td>SQL</td>\n",
       "      <td>SELECT \\ntuser.Score\\nFROM users us\\nJOIN\\n(SE...</td>\n",
       "    </tr>\n",
       "    <tr>\n",
       "      <th>24575</th>\n",
       "      <td>Most Upvoted Answers</td>\n",
       "      <td>-- Most Upvoted Answers of All Time\\n-- The mo...</td>\n",
       "    </tr>\n",
       "    <tr>\n",
       "      <th>24576</th>\n",
       "      <td>compare tags</td>\n",
       "      <td>select *, count(*) from\\n(\\n  select CAST(\\n  ...</td>\n",
       "    </tr>\n",
       "    <tr>\n",
       "      <th>24577</th>\n",
       "      <td>Duplicate Answers</td>\n",
       "      <td>SELECT body,Id, COUNT(*) AS numOccurences\\nFRO...</td>\n",
       "    </tr>\n",
       "    <tr>\n",
       "      <th>24578</th>\n",
       "      <td>Average answer length per user &gt; 10K rep.</td>\n",
       "      <td>SELECT\\n  u.Id AS [User Link],\\n  Count(*) AS ...</td>\n",
       "    </tr>\n",
       "    <tr>\n",
       "      <th>24579</th>\n",
       "      <td>Accepted Answers by User on given date</td>\n",
       "      <td>-- Accepted Answer Statistics\\n\\nDECLARE @User...</td>\n",
       "    </tr>\n",
       "    <tr>\n",
       "      <th>24580</th>\n",
       "      <td>Popular ruby questions</td>\n",
       "      <td>select posts.* from posts where posts.tags lik...</td>\n",
       "    </tr>\n",
       "    <tr>\n",
       "      <th>24581</th>\n",
       "      <td>Post_java</td>\n",
       "      <td>select top 1 id, postid, [text]\\nfrom PostHist...</td>\n",
       "    </tr>\n",
       "    <tr>\n",
       "      <th>24582</th>\n",
       "      <td>Search user profiles</td>\n",
       "      <td>select\\n  u.Id as [User Link],\\n  u.CreationDa...</td>\n",
       "    </tr>\n",
       "    <tr>\n",
       "      <th>24583</th>\n",
       "      <td>Review Count and Breakdown</td>\n",
       "      <td>SELECT type.Name AS [Review Type],\\n       COU...</td>\n",
       "    </tr>\n",
       "    <tr>\n",
       "      <th>24584</th>\n",
       "      <td>WHERE filtering with times</td>\n",
       "      <td>SELECT * FROM dbo.Users WHERE CONVERT(TIME, Cr...</td>\n",
       "    </tr>\n",
       "    <tr>\n",
       "      <th>24585</th>\n",
       "      <td>Edit-suitable tags</td>\n",
       "      <td>SELECT * FROM Tags\\nWHERE ExcerptPostId IS NUL...</td>\n",
       "    </tr>\n",
       "    <tr>\n",
       "      <th>24586</th>\n",
       "      <td>Answers Given To A Particular User</td>\n",
       "      <td>DECLARE @QtnsUser int = ##QtnsUser##\\nDECLARE ...</td>\n",
       "    </tr>\n",
       "    <tr>\n",
       "      <th>24587</th>\n",
       "      <td>Gaps in Posts Id</td>\n",
       "      <td>select Id+1 as [Id of deleted post], CreationD...</td>\n",
       "    </tr>\n",
       "    <tr>\n",
       "      <th>24588</th>\n",
       "      <td>Get POST History of a POST</td>\n",
       "      <td>SELECT\\n    POSTID As [Post Link],\\n    USERID...</td>\n",
       "    </tr>\n",
       "    <tr>\n",
       "      <th>24589</th>\n",
       "      <td>Metrics - Site - Basic Counts</td>\n",
       "      <td>-- Metrics - Site - Basic Counts\\n-- Total amo...</td>\n",
       "    </tr>\n",
       "    <tr>\n",
       "      <th>24590</th>\n",
       "      <td>ssss</td>\n",
       "      <td>select cast (1 as bit)</td>\n",
       "    </tr>\n",
       "    <tr>\n",
       "      <th>24591</th>\n",
       "      <td>Top Italian users for Laravel tag</td>\n",
       "      <td>SELECT ROW_NUMBER() OVER(ORDER BY tuser.Score ...</td>\n",
       "    </tr>\n",
       "    <tr>\n",
       "      <th>24592</th>\n",
       "      <td>Useless Indians</td>\n",
       "      <td>-- TOP 100 users from Greece\\n-- Lists the top...</td>\n",
       "    </tr>\n",
       "    <tr>\n",
       "      <th>24593</th>\n",
       "      <td>most voted</td>\n",
       "      <td>select top 20 count(v.postid) as 'Vote count',...</td>\n",
       "    </tr>\n",
       "  </tbody>\n",
       "</table>\n",
       "<p>24594 rows × 2 columns</p>\n",
       "</div>"
      ],
      "text/plain": [
       "                                                   title  \\\n",
       "0                                         Repent 151-160   \n",
       "1      This is test data for my question to make thin...   \n",
       "2                                          Accept answer   \n",
       "3      Questions with most views created within 3 mon...   \n",
       "4                                  Most Prolific Answers   \n",
       "5                  Questions with the default image text   \n",
       "6                       Questions with most delete votes   \n",
       "7                                        Fastest answers   \n",
       "8                                     Bounty distibution   \n",
       "9      Is there a SEDE query to find number of up vot...   \n",
       "10                                       User's Post Age   \n",
       "11              Generic Query for Trending Multiple Tags   \n",
       "12                                     User Profile Test   \n",
       "13                            C# Gold bearers from India   \n",
       "14                              find duplicate questions   \n",
       "15                                  crate mine questions   \n",
       "16            Users with highst number of combined Views   \n",
       "17                                  Users average score.   \n",
       "18                                           Posts Table   \n",
       "19                     Questions with no accepted answer   \n",
       "20                               Roads API questions SBT   \n",
       "21                                            Most Posts   \n",
       "22                                       Lowest Rep/Post   \n",
       "23                  OP edits of a question after closure   \n",
       "24                  Top 100 posts with the most comments   \n",
       "25     All-uppercase Stack Overflow questions asked i...   \n",
       "26     Get User Info (Total answers and Accepted Answ...   \n",
       "27                                     downvotes by user   \n",
       "28                        My Top N Most Upvoted Comments   \n",
       "29                                          Ezm test foo   \n",
       "...                                                  ...   \n",
       "24564  High-Scoring Questions with Accepted Answers, ...   \n",
       "24565                        Proof that there are spaces   \n",
       "24566               Posts (Answers) based on a given tag   \n",
       "24567  Percentage of questions with at least one answ...   \n",
       "24568                         Tag Size and Growth Trends   \n",
       "24569       Deleted questions by month for specified tag   \n",
       "24570             Get answers with the most closed votes   \n",
       "24571                     Vocabulary Only Questions 2016   \n",
       "24572                            How rare are my badges?   \n",
       "24573                     Get other tags used with a tag   \n",
       "24574                                                SQL   \n",
       "24575                               Most Upvoted Answers   \n",
       "24576                                       compare tags   \n",
       "24577                                  Duplicate Answers   \n",
       "24578          Average answer length per user > 10K rep.   \n",
       "24579             Accepted Answers by User on given date   \n",
       "24580                             Popular ruby questions   \n",
       "24581                                          Post_java   \n",
       "24582                               Search user profiles   \n",
       "24583                         Review Count and Breakdown   \n",
       "24584                         WHERE filtering with times   \n",
       "24585                                 Edit-suitable tags   \n",
       "24586                 Answers Given To A Particular User   \n",
       "24587                                   Gaps in Posts Id   \n",
       "24588                         Get POST History of a POST   \n",
       "24589                      Metrics - Site - Basic Counts   \n",
       "24590                                               ssss   \n",
       "24591                  Top Italian users for Laravel tag   \n",
       "24592                                    Useless Indians   \n",
       "24593                                         most voted   \n",
       "\n",
       "                                               sql_plain  \n",
       "0      SELECT \\np.Title,p.score,p.ViewCount,p.AnswerC...  \n",
       "1      -- This is test data for my question to make t...  \n",
       "2      select Id\\nfrom Comments \\nwhere lower(Text) l...  \n",
       "3      DECLARE @From DATETIME = convert(DATETIME, '##...  \n",
       "4      -- Most Prolific Answerers (with score)\\n-- Sh...  \n",
       "5      SELECT Id AS [Post Link], Tags, Score FROM Pos...  \n",
       "6      select top 100 p.Id as [Post Link], max(p.Scor...  \n",
       "7      SELECT TOP 100\\n  q.OwnerUserId AS [User Link]...  \n",
       "8      with bounty_questions as (\\n  select max(1.0*a...  \n",
       "9      select count(*)\\nfrom votes v \\ninner join pos...  \n",
       "10     Select ntile(10) over (Order by DateDiff(d, Cr...  \n",
       "11     --Get the Tag IDs that you are interested in f...  \n",
       "12     DECLARE @userID numeric = ##UserID##\\n\\nSELECT...  \n",
       "13     WITH data\\n     AS (SELECT Rank() OVER (PARTIT...  \n",
       "14     -- TagName: Filter questions by this tag. Leav...  \n",
       "15     select dateadd(month, datediff(month, 0, q.Cre...  \n",
       "16     -- Users with highst number of combined Views\\...  \n",
       "17     -- Users sorted by average score.\\n-- Votes pe...  \n",
       "18     --Create Customer Temp table\\nCREATE TABLE #Cu...  \n",
       "19     -- Enter Query Title\\n-- Enter Query Descripti...  \n",
       "20     select i.Id, i.CreationDate, i.Title, i.Tags, ...  \n",
       "21               SELECT P.Id FROM POSTS AS P, USERS AS U  \n",
       "22     WITH TotalRep\\nAS\\n(\\n  SELECT \\n  P.OwnerUser...  \n",
       "23     select top 10 \\n  p.Id [Post Link]\\nfrom Posts...  \n",
       "24     SELECT TOP 20 Posts.Id as [Post Link], Comment...  \n",
       "25     SELECT PostId AS [Post Link],\\n       'http://...  \n",
       "26     -- Get User(s) Info\\n-- Returns the URL with t...  \n",
       "27     declare @user_id int = ##UserId:int##\\n\\nSELEC...  \n",
       "28     SELECT  * FROM Users \\nWHERE (Age = 39 and Loc...  \n",
       "29     select top(100) p.Id, p2.Id, p2.ParentId, p2.*...  \n",
       "...                                                  ...  \n",
       "24564  -- This query uses JOINs to show question scor...  \n",
       "24565  SELECT TOP 10 Body\\nFROM   Posts\\nWHERE  Owner...  \n",
       "24566  select DATENAME(yyyy, p.LastActivityDate) AS Y...  \n",
       "24567  SELECT\\n  DATEPART(week,CreationDate),\\n  CAST...  \n",
       "24568  DECLARE @Last30 datetime = '12/15/2012'\\n\\nSEL...  \n",
       "24569  DECLARE @tagcond nvarchar(25) = concat('%', ##...  \n",
       "24570  SELECT TOP 10 Posts.Id, ParentId, Count(*) AS ...  \n",
       "24571  select \\ntitle, \\nid as [Post Link], \\ntags, c...  \n",
       "24572  SELECT     mine.name AS [Badge Name],\\n       ...  \n",
       "24573  SELECT\\n  t2.tagname AS TagName,\\n  count(*) A...  \n",
       "24574  SELECT \\ntuser.Score\\nFROM users us\\nJOIN\\n(SE...  \n",
       "24575  -- Most Upvoted Answers of All Time\\n-- The mo...  \n",
       "24576  select *, count(*) from\\n(\\n  select CAST(\\n  ...  \n",
       "24577  SELECT body,Id, COUNT(*) AS numOccurences\\nFRO...  \n",
       "24578  SELECT\\n  u.Id AS [User Link],\\n  Count(*) AS ...  \n",
       "24579  -- Accepted Answer Statistics\\n\\nDECLARE @User...  \n",
       "24580  select posts.* from posts where posts.tags lik...  \n",
       "24581  select top 1 id, postid, [text]\\nfrom PostHist...  \n",
       "24582  select\\n  u.Id as [User Link],\\n  u.CreationDa...  \n",
       "24583  SELECT type.Name AS [Review Type],\\n       COU...  \n",
       "24584  SELECT * FROM dbo.Users WHERE CONVERT(TIME, Cr...  \n",
       "24585  SELECT * FROM Tags\\nWHERE ExcerptPostId IS NUL...  \n",
       "24586  DECLARE @QtnsUser int = ##QtnsUser##\\nDECLARE ...  \n",
       "24587  select Id+1 as [Id of deleted post], CreationD...  \n",
       "24588  SELECT\\n    POSTID As [Post Link],\\n    USERID...  \n",
       "24589  -- Metrics - Site - Basic Counts\\n-- Total amo...  \n",
       "24590                             select cast (1 as bit)  \n",
       "24591  SELECT ROW_NUMBER() OVER(ORDER BY tuser.Score ...  \n",
       "24592  -- TOP 100 users from Greece\\n-- Lists the top...  \n",
       "24593  select top 20 count(v.postid) as 'Vote count',...  \n",
       "\n",
       "[24594 rows x 2 columns]"
      ]
     },
     "execution_count": 10,
     "metadata": {},
     "output_type": "execute_result"
    }
   ],
   "source": [
    "df_trn"
   ]
  },
  {
   "cell_type": "code",
   "execution_count": 11,
   "metadata": {},
   "outputs": [],
   "source": [
    "df_trn.to_csv(str(PATH)+\"train.csv\", index=False, header=False)\n",
    "df_test.to_csv(str(PATH)+\"test.csv\", index=False, header=False)"
   ]
  },
  {
   "cell_type": "code",
   "execution_count": 8,
   "metadata": {},
   "outputs": [],
   "source": [
    "df_trn = pd.read_csv(str(PATH)+\"train.csv\", header=None)\n",
    "df_test= pd.read_csv(str(PATH)+\"test.csv\", header=None)"
   ]
  },
  {
   "cell_type": "code",
   "execution_count": 9,
   "metadata": {},
   "outputs": [
    {
     "data": {
      "text/plain": [
       "(24594, 2)"
      ]
     },
     "execution_count": 9,
     "metadata": {},
     "output_type": "execute_result"
    }
   ],
   "source": [
    "df_trn.shape"
   ]
  },
  {
   "cell_type": "code",
   "execution_count": 10,
   "metadata": {},
   "outputs": [
    {
     "data": {
      "text/plain": [
       "(296, 2)"
      ]
     },
     "execution_count": 10,
     "metadata": {},
     "output_type": "execute_result"
    }
   ],
   "source": [
    "df_test.shape"
   ]
  },
  {
   "cell_type": "code",
   "execution_count": 11,
   "metadata": {},
   "outputs": [],
   "source": [
    "df_lm = pd.concat((df_trn,df_test), axis=0)"
   ]
  },
  {
   "cell_type": "code",
   "execution_count": 12,
   "metadata": {},
   "outputs": [],
   "source": [
    "re1 = re.compile(r'  +')\n",
    "BOS = 'xbos'  # beginning-of-sentence tag\n",
    "FLD = 'xfld'  # data field tag\n",
    "\n",
    "def fixup(x):\n",
    "    x = x.replace('#39;', \"'\").replace('amp;', '&').replace('#146;', \"'\").replace(\n",
    "        'nbsp;', ' ').replace('#36;', '$').replace('\\\\n', \"\\n\").replace('quot;', \"'\").replace(\n",
    "        '<br />', \"\\n\").replace('\\\\\"', '\"').replace('<unk>','u_n').replace(' @.@ ','.').replace(\n",
    "        ' @-@ ','-').replace('\\\\', ' \\\\ ').replace(',', \", \")\n",
    "    return re1.sub(' ', html.unescape(x))\n",
    "\n",
    "def get_texts(df, n_lbls=1):\n",
    "    labels = df.iloc[:,range(n_lbls)].values#.astype(np.int64)\n",
    "    texts = f'\\n{BOS} {FLD} 1 ' + df[n_lbls].astype(str)\n",
    "    for i in range(n_lbls+1, len(df.columns)): texts += f' {FLD} {i-n_lbls} ' + df[i].astype(str)\n",
    "    texts = texts.apply(fixup).values.astype(str)\n",
    "\n",
    "    tok = Tokenizer().proc_all_mp(partition_by_cores(texts))\n",
    "    return tok, list(labels)\n",
    "\n",
    "def get_all(df, n_lbls):\n",
    "    tok, labels = [], []\n",
    "    for i, r in enumerate(df):\n",
    "        print(i)\n",
    "        tok_, labels_ = get_texts(r, n_lbls)\n",
    "        tok += tok_;\n",
    "        labels += labels_\n",
    "    return tok, labels"
   ]
  },
  {
   "cell_type": "code",
   "execution_count": 14,
   "metadata": {},
   "outputs": [],
   "source": [
    "tok_lm, _ = get_texts(df_lm, 1)"
   ]
  },
  {
   "cell_type": "code",
   "execution_count": 15,
   "metadata": {},
   "outputs": [],
   "source": [
    "freq = Counter(p for o in tok_lm for p in o)"
   ]
  },
  {
   "cell_type": "code",
   "execution_count": 16,
   "metadata": {},
   "outputs": [],
   "source": [
    "max_vocab = 60000\n",
    "min_freq = 2"
   ]
  },
  {
   "cell_type": "code",
   "execution_count": 17,
   "metadata": {},
   "outputs": [],
   "source": [
    "itos = [o for o,c in freq.most_common(max_vocab) if c>min_freq]\n",
    "itos.insert(0, '_pad_')\n",
    "itos.insert(0, '_unk_')"
   ]
  },
  {
   "cell_type": "code",
   "execution_count": 18,
   "metadata": {},
   "outputs": [
    {
     "data": {
      "text/plain": [
       "15120"
      ]
     },
     "execution_count": 18,
     "metadata": {},
     "output_type": "execute_result"
    }
   ],
   "source": [
    "stoi = collections.defaultdict(lambda:0, {v:k for k,v in enumerate(itos)})\n",
    "len(itos)"
   ]
  },
  {
   "cell_type": "code",
   "execution_count": 19,
   "metadata": {},
   "outputs": [],
   "source": [
    "trn_lm = np.array([[stoi[o] for o in p] for p in tok_lm])"
   ]
  },
  {
   "cell_type": "code",
   "execution_count": 20,
   "metadata": {},
   "outputs": [
    {
     "data": {
      "text/plain": [
       "array([ list([6, 20, 21, 12, 2, 11, 6, 275, 4, 148, 4, 242, 4, 342, 4, 709, 4, 2, 553, 5, 10, 5889, 4, 6, 976, 4, 60, 4, 6, 139, 10, 5890, 4, 325, 10, 5891, 4, 6, 254, 9, 2, 1178, 4, 94, 4, 210, 5, 10, 5277, 6, 13, 22, 10, 59, 4, 22, 10, 66, 4, 33, 10, 98, 6, 17, 6, 5278, 15, 6, 1420, 15, 6, 210, 8, 6, 9, 11, 5892, 5, 6, 13, 22, 5893, 6, 17, 5894, 6, 38, 16, 5895, 5, 15, 6, 9, 6, 275, 30, 7, 32, 0, 1968, 133, 0, 0, 13, 0, 9, 73, 2, 0, 7, 52, 6, 275, 30, 7, 32, 1340, 123, 1873, 3426, 80, 73, 184, 73, 1910, 123, 773, 211, 63, 7741, 7, 52, 6, 275, 30, 7, 32, 236, 123, 6545, 66, 211, 876, 5896, 0, 7, 52, 6, 275, 30, 7, 32, 236, 123, 669, 211, 293, 2227, 876, 2463, 63, 7741, 7, 52, 6, 275, 30, 7, 32, 0, 11397, 864, 1222, 9, 606, 11398, 5, 13, 3426, 63, 7741, 7, 52, 6, 275, 30, 7, 32, 3426, 246, 11399, 28, 196, 1512, 39, 750, 2167, 460, 53, 8, 15, 293, 0, 7, 52, 6, 275, 30, 7, 32, 11400, 85, 3426, 15, 0, 7, 52, 6, 275, 30, 7, 32, 386, 28, 251, 680, 123, 11401, 7, 52, 6, 275, 30, 7, 32, 1760, 123, 1969, 523, 1222, 63, 66, 11401, 7, 52, 6, 275, 30, 7, 32, 2116, 5279, 1163, 0, 7, 6, 5]),\n",
       "       list([6, 20, 21, 12, 23, 203, 54, 644, 361, 133, 292, 118, 123, 1288, 2168, 3844, 133, 613, 123, 644, 9, 11402, 5, 76, 43, 2, 201, 2, 144, 14, 6546, 6, 9, 3, 39, 41, 64, 2, 71, 2, 50, 4, 3, 2, 140, 1274, 5, 2, 50, 4, 3, 2, 1651, 1274, 5, 2, 50, 4, 3, 2, 5897, 1274, 5, 2, 50, 4, 6, 5, 43, 2, 126, 2, 129, 14, 0, 4, 2, 140, 4, 2, 1651, 4, 2, 5897, 5, 3, 2, 192, 6, 9, 0, 4, 7, 2, 3643, 566, 7, 4, 7, 1651, 66, 7, 4, 7, 413, 383, 4114, 7, 5, 4, 6, 9, 0, 4, 7, 2, 0, 2376, 7, 4, 7, 1651, 199, 7, 4, 7, 186, 5898, 2, 5280, 7, 5, 4, 6, 9, 0, 4, 7, 2, 0, 437, 7, 4, 175, 4, 7, 186, 5898, 2, 5280, 7, 5, 4, 6, 9, 0, 4, 7, 2, 2928, 437, 7, 4, 7, 1651, 149, 7, 4, 7, 186, 5898, 2, 5280, 7, 5, 4, 6, 9, 0, 4, 7, 2, 0, 41, 7, 4, 7, 1651, 41, 7, 4, 7, 8984, 734, 2052, 2, 7742, 107, 7, 5, 4, 6, 9, 0, 4, 7, 2, 2928, 199, 7, 4, 7, 1651, 566, 7, 4, 7, 8984, 734, 2052, 2, 7742, 107, 7, 5, 4, 6, 9, 0, 4, 7, 2, 0, 1194, 7, 4, 7, 1651, 614, 7, 4, 7, 4115, 3217, 4114, 7, 5, 4, 6, 9, 0, 4, 7, 2, 0, 986, 7, 4, 7, 1651, 1150, 7, 4, 7, 4115, 3217, 4114, 7, 5, 4, 6, 9, 0, 4, 7, 2, 2928, 368, 7, 4, 7, 1651, 437, 7, 4, 7, 4115, 3217, 4114, 7, 5, 4, 6, 9, 0, 4, 7, 2, 2928, 39, 7, 4, 7, 1651, 39, 7, 4, 7, 4115, 3217, 4114, 7, 5, 255, 2, 11, 4804, 4, 11403, 4, 11404, 4, 8985, 3, 2, 13, 14, 6546, 1289, 3, 2, 114, 2, 253, 2, 25, 14, 6546, 1341, 3, 24, 9, 0, 0, 5, 3, 2, 38, 16, 8985, 4, 4804, 4, 11403, 4, 11404, 3, 2, 150, 2, 36, 9, 27, 5, 48, 8, 91]),\n",
       "       list([6, 20, 21, 12, 11, 39, 41, 6, 13, 111, 6, 17, 1136, 5, 30, 7, 32, 615, 32, 1911, 7, 6, 26, 16, 653, 5, 120]),\n",
       "       ..., list([6, 20, 21, 12, 11, 45, 87, 88, 4, 57, 4, 93, 4, 207, 13, 440, 44]),\n",
       "       list([6, 20, 21, 12, 11, 27, 13, 47, 17, 70, 8, 7, 13516, 7]),\n",
       "       list([6, 20, 21, 12, 11, 110, 4, 47, 13, 22, 44])], dtype=object)"
      ]
     },
     "execution_count": 20,
     "metadata": {},
     "output_type": "execute_result"
    }
   ],
   "source": [
    "trn_lm"
   ]
  },
  {
   "cell_type": "code",
   "execution_count": 174,
   "metadata": {},
   "outputs": [
    {
     "name": "stdout",
     "output_type": "stream",
     "text": [
      "\n",
      " xbos xfld 1 t_up select \n",
      " p.title , p.score , p.viewcount , p.answercount , p.commentcount , t_up len(p.body ) as ques_size , \n",
      " p.favoritecount , p.id , \n",
      " u.reputation as user_repo , u.creationdate as user_join_date , \n",
      " datediff ( t_up minute , p.creationdate , a.creationdate ) as qatimegap \n",
      " from posts as p , posts as a , users as u \n",
      " where \n",
      " p.id=a.parentid and \n",
      " p.owneruserid=u.id and \n",
      " a.creationdate = \n",
      " ( select min(tau.creationdate ) \n",
      " from posts tau \n",
      " where tau.parentid=p.id \n",
      " group by tau.parentid ) and \n",
      " ( \n",
      " p.title like ' % _unk_ method for _unk_ _unk_ from _unk_ ( \" t_up _unk_ ' or \n",
      " p.title like ' % way to format strings with \" ? \" parameters to full string in java?% ' or \n",
      " p.title like ' % how to parse a string without regular _unk_ ' or \n",
      " p.title like ' % how to replace string only once without regex in java?% ' or \n",
      " p.title like ' % _unk_ removing specific characters ( some punctuation ) from strings in java?% ' or \n",
      " p.title like ' % strings are immutable - that means i should never use + = and only _unk_ ' or \n",
      " p.title like ' % concatenation of strings and _unk_ ' or \n",
      " p.title like ' % java - convert integer to string% ' or \n",
      " p.title like ' % function to remove duplicate characters in a string% ' or \n",
      " p.title like ' % better template language _unk_ ' \n",
      " ) "
     ]
    }
   ],
   "source": [
    "for i in trn_lm[0]:\n",
    "    print(itos[i], end=\" \")"
   ]
  },
  {
   "cell_type": "code",
   "execution_count": 21,
   "metadata": {},
   "outputs": [
    {
     "data": {
      "text/plain": [
       "(15120, 24890)"
      ]
     },
     "execution_count": 21,
     "metadata": {},
     "output_type": "execute_result"
    }
   ],
   "source": [
    "vs=len(itos)\n",
    "vs,len(trn_lm)"
   ]
  },
  {
   "cell_type": "code",
   "execution_count": 22,
   "metadata": {},
   "outputs": [],
   "source": [
    "em_sz,nh,nl = 400,1150,3\n",
    "wd=1e-7\n",
    "bptt=70\n",
    "bs=52\n",
    "opt_fn = partial(optim.Adam, betas=(0.8, 0.99))"
   ]
  },
  {
   "cell_type": "code",
   "execution_count": 139,
   "metadata": {},
   "outputs": [],
   "source": [
    "??optim.Adam"
   ]
  },
  {
   "cell_type": "code",
   "execution_count": 142,
   "metadata": {},
   "outputs": [],
   "source": [
    "trn_dl = LanguageModelLoader(np.concatenate(trn_lm), bs, bptt)\n",
    "val_dl = LanguageModelLoader(np.concatenate(trn_lm), bs, bptt)"
   ]
  },
  {
   "cell_type": "code",
   "execution_count": 140,
   "metadata": {},
   "outputs": [],
   "source": [
    "??LanguageModelLoader"
   ]
  },
  {
   "cell_type": "code",
   "execution_count": 144,
   "metadata": {},
   "outputs": [
    {
     "data": {
      "text/plain": [
       "\n",
       "     6     45      2  ...       8      0    344\n",
       "    20     87     11  ...      12     12   3018\n",
       "    21     27    204  ...       6     73   1602\n",
       "        ...            ⋱           ...         \n",
       "     2     29     17  ...      73     54     20\n",
       "    11     27    117  ...     130   5077     21\n",
       "     2      3      8  ...      16     63     12\n",
       "[torch.cuda.LongTensor of size 46912x52 (GPU 0)]"
      ]
     },
     "execution_count": 144,
     "metadata": {},
     "output_type": "execute_result"
    }
   ],
   "source": [
    "trn_dl.data"
   ]
  },
  {
   "cell_type": "code",
   "execution_count": 148,
   "metadata": {},
   "outputs": [
    {
     "data": {
      "text/plain": [
       "0"
      ]
     },
     "execution_count": 148,
     "metadata": {},
     "output_type": "execute_result"
    }
   ],
   "source": [
    "trn_dl.i"
   ]
  },
  {
   "cell_type": "code",
   "execution_count": 149,
   "metadata": {},
   "outputs": [],
   "source": [
    "md = LanguageModelData(PATH, 1, vs, trn_dl, val_dl)"
   ]
  },
  {
   "cell_type": "code",
   "execution_count": 150,
   "metadata": {},
   "outputs": [
    {
     "data": {
      "text/plain": [
       "0"
      ]
     },
     "execution_count": 150,
     "metadata": {},
     "output_type": "execute_result"
    }
   ],
   "source": [
    "trn_dl.i"
   ]
  },
  {
   "cell_type": "code",
   "execution_count": 146,
   "metadata": {},
   "outputs": [],
   "source": [
    "??LanguageModelData"
   ]
  },
  {
   "cell_type": "code",
   "execution_count": 190,
   "metadata": {},
   "outputs": [],
   "source": [
    "??get_language_model"
   ]
  },
  {
   "cell_type": "code",
   "execution_count": 191,
   "metadata": {},
   "outputs": [],
   "source": [
    "??LinearDecoder"
   ]
  },
  {
   "cell_type": "code",
   "execution_count": 159,
   "metadata": {},
   "outputs": [],
   "source": [
    "drops = np.array([0.25, 0.1, 0.2, 0.02, 0.15])*0.7"
   ]
  },
  {
   "cell_type": "code",
   "execution_count": 160,
   "metadata": {},
   "outputs": [],
   "source": [
    "learner= md.get_model(opt_fn, em_sz, nh, nl, \n",
    "    dropouti=drops[0], dropout=drops[1], wdrop=drops[2], dropoute=drops[3], dropouth=drops[4])\n",
    "\n",
    "learner.metrics = [accuracy]\n",
    "learner.unfreeze()"
   ]
  },
  {
   "cell_type": "code",
   "execution_count": 189,
   "metadata": {},
   "outputs": [],
   "source": [
    "??md.get_model"
   ]
  },
  {
   "cell_type": "code",
   "execution_count": 188,
   "metadata": {},
   "outputs": [],
   "source": [
    "??LanguageModel"
   ]
  },
  {
   "cell_type": "code",
   "execution_count": 162,
   "metadata": {},
   "outputs": [
    {
     "data": {
      "text/plain": [
       "0"
      ]
     },
     "execution_count": 162,
     "metadata": {},
     "output_type": "execute_result"
    }
   ],
   "source": [
    "trn_dl.i"
   ]
  },
  {
   "cell_type": "code",
   "execution_count": 163,
   "metadata": {},
   "outputs": [],
   "source": [
    "??learner.lr_find()"
   ]
  },
  {
   "cell_type": "code",
   "execution_count": 74,
   "metadata": {},
   "outputs": [
    {
     "data": {
      "application/vnd.jupyter.widget-view+json": {
       "model_id": "6cfb2c131a014bf6b0af031653976e92",
       "version_major": 2,
       "version_minor": 0
      },
      "text/html": [
       "<p>Failed to display Jupyter Widget of type <code>HBox</code>.</p>\n",
       "<p>\n",
       "  If you're reading this message in the Jupyter Notebook or JupyterLab Notebook, it may mean\n",
       "  that the widgets JavaScript is still loading. If this message persists, it\n",
       "  likely means that the widgets JavaScript library is either not installed or\n",
       "  not enabled. See the <a href=\"https://ipywidgets.readthedocs.io/en/stable/user_install.html\">Jupyter\n",
       "  Widgets Documentation</a> for setup instructions.\n",
       "</p>\n",
       "<p>\n",
       "  If you're reading this message in another frontend (for example, a static\n",
       "  rendering on GitHub or <a href=\"https://nbviewer.jupyter.org/\">NBViewer</a>),\n",
       "  it may mean that your frontend doesn't currently support widgets.\n",
       "</p>\n"
      ],
      "text/plain": [
       "HBox(children=(IntProgress(value=0, description='Epoch', max=1), HTML(value='')))"
      ]
     },
     "metadata": {},
     "output_type": "display_data"
    },
    {
     "name": "stdout",
     "output_type": "stream",
     "text": [
      " 72%|███████▏  | 485/669 [2:18:05<52:23, 17.08s/it, loss=23]  "
     ]
    }
   ],
   "source": [
    "learner.lr_find()"
   ]
  },
  {
   "cell_type": "code",
   "execution_count": 77,
   "metadata": {},
   "outputs": [
    {
     "data": {
      "image/png": "[encoded data removed]",
      "text/plain": [
       "<matplotlib.figure.Figure at 0x7f7e6afcfbe0>"
      ]
     },
     "metadata": {},
     "output_type": "display_data"
    }
   ],
   "source": [
    "learner.sched.plot()"
   ]
  },
  {
   "cell_type": "code",
   "execution_count": 164,
   "metadata": {},
   "outputs": [],
   "source": [
    "lr=8e-4\n",
    "lrs = lr"
   ]
  },
  {
   "cell_type": "code",
   "execution_count": 155,
   "metadata": {},
   "outputs": [],
   "source": [
    "??learner.fit"
   ]
  },
  {
   "cell_type": "code",
   "execution_count": 154,
   "metadata": {},
   "outputs": [],
   "source": [
    "??learner.get_layer_opt"
   ]
  },
  {
   "cell_type": "code",
   "execution_count": 156,
   "metadata": {},
   "outputs": [],
   "source": [
    "??learner.fit_gen"
   ]
  },
  {
   "cell_type": "code",
   "execution_count": 165,
   "metadata": {},
   "outputs": [
    {
     "data": {
      "application/vnd.jupyter.widget-view+json": {
       "model_id": "b5383d6a51db43d3bf2d0af26ea7526e",
       "version_major": 2,
       "version_minor": 0
      },
      "text/html": [
       "<p>Failed to display Jupyter Widget of type <code>HBox</code>.</p>\n",
       "<p>\n",
       "  If you're reading this message in the Jupyter Notebook or JupyterLab Notebook, it may mean\n",
       "  that the widgets JavaScript is still loading. If this message persists, it\n",
       "  likely means that the widgets JavaScript library is either not installed or\n",
       "  not enabled. See the <a href=\"https://ipywidgets.readthedocs.io/en/stable/user_install.html\">Jupyter\n",
       "  Widgets Documentation</a> for setup instructions.\n",
       "</p>\n",
       "<p>\n",
       "  If you're reading this message in another frontend (for example, a static\n",
       "  rendering on GitHub or <a href=\"https://nbviewer.jupyter.org/\">NBViewer</a>),\n",
       "  it may mean that your frontend doesn't currently support widgets.\n",
       "</p>\n"
      ],
      "text/plain": [
       "HBox(children=(IntProgress(value=0, description='Epoch', max=1), HTML(value='')))"
      ]
     },
     "metadata": {},
     "output_type": "display_data"
    },
    {
     "name": "stdout",
     "output_type": "stream",
     "text": [
      "epoch      trn_loss   val_loss   accuracy                   \n",
      "    0      4.652819   4.555349   0.199504  \n",
      "\n"
     ]
    },
    {
     "data": {
      "text/plain": [
       "[4.5553493, 0.19950446813897701]"
      ]
     },
     "execution_count": 165,
     "metadata": {},
     "output_type": "execute_result"
    }
   ],
   "source": [
    "learner.fit(lrs/2, 1, wds=wd, use_clr=(32,2), cycle_len=1)"
   ]
  },
  {
   "cell_type": "code",
   "execution_count": 168,
   "metadata": {},
   "outputs": [],
   "source": [
    "??trn_dl"
   ]
  },
  {
   "cell_type": "code",
   "execution_count": 29,
   "metadata": {},
   "outputs": [],
   "source": [
    "learner.save('lm_last_ft')"
   ]
  },
  {
   "cell_type": "code",
   "execution_count": null,
   "metadata": {},
   "outputs": [],
   "source": [
    "learner.load('lm_last_ft')"
   ]
  },
  {
   "cell_type": "code",
   "execution_count": 170,
   "metadata": {},
   "outputs": [],
   "source": [
    "??learner.freeze_to()"
   ]
  },
  {
   "cell_type": "code",
   "execution_count": 171,
   "metadata": {},
   "outputs": [],
   "source": [
    "learner.unfreeze()"
   ]
  },
  {
   "cell_type": "code",
   "execution_count": 172,
   "metadata": {},
   "outputs": [
    {
     "data": {
      "application/vnd.jupyter.widget-view+json": {
       "model_id": "5417d20137f941a5bfbddf291fe62f58",
       "version_major": 2,
       "version_minor": 0
      },
      "text/html": [
       "<p>Failed to display Jupyter Widget of type <code>HBox</code>.</p>\n",
       "<p>\n",
       "  If you're reading this message in the Jupyter Notebook or JupyterLab Notebook, it may mean\n",
       "  that the widgets JavaScript is still loading. If this message persists, it\n",
       "  likely means that the widgets JavaScript library is either not installed or\n",
       "  not enabled. See the <a href=\"https://ipywidgets.readthedocs.io/en/stable/user_install.html\">Jupyter\n",
       "  Widgets Documentation</a> for setup instructions.\n",
       "</p>\n",
       "<p>\n",
       "  If you're reading this message in another frontend (for example, a static\n",
       "  rendering on GitHub or <a href=\"https://nbviewer.jupyter.org/\">NBViewer</a>),\n",
       "  it may mean that your frontend doesn't currently support widgets.\n",
       "</p>\n"
      ],
      "text/plain": [
       "HBox(children=(IntProgress(value=0, description='Epoch', max=15), HTML(value='')))"
      ]
     },
     "metadata": {},
     "output_type": "display_data"
    },
    {
     "name": "stdout",
     "output_type": "stream",
     "text": [
      "epoch      trn_loss   val_loss   accuracy                   \n",
      "    0      2.980805   2.79463    0.467613  \n",
      "    1      2.105871   2.004283   0.588952                   \n",
      "    2      1.770212   1.668232   0.643377                   \n",
      "    3      1.591637   1.466413   0.677594                   \n",
      "    4      1.455723   1.320104   0.703459                   \n",
      "    5      1.351965   1.210415   0.724306                   \n",
      "    6      1.258142   1.122119   0.741272                   \n",
      "    7      1.198309   1.047865   0.756488                   \n",
      "    8      1.136695   0.989424   0.76831                    \n",
      "    9      1.098699   0.936767   0.779464                   \n",
      "    10     1.062754   0.894572   0.788605                   \n",
      "    11     1.052453   0.860373   0.796523                   \n",
      "    12     1.010241   0.826484   0.804731                    \n",
      "    13     0.994387   0.803344   0.810086                    \n",
      "    14     0.987387   0.788586   0.813596                    \n",
      "\n"
     ]
    },
    {
     "data": {
      "text/plain": [
       "[0.78858626, 0.81359573677516306]"
      ]
     },
     "execution_count": 172,
     "metadata": {},
     "output_type": "execute_result"
    }
   ],
   "source": [
    "learner.fit(lrs, 1, wds=wd, use_clr=(20,10), cycle_len=15)"
   ]
  },
  {
   "cell_type": "code",
   "execution_count": 32,
   "metadata": {},
   "outputs": [],
   "source": [
    "learner.save('lm1')"
   ]
  },
  {
   "cell_type": "code",
   "execution_count": 33,
   "metadata": {},
   "outputs": [],
   "source": [
    "learner.save_encoder('lm1_enc')"
   ]
  },
  {
   "cell_type": "code",
   "execution_count": 40,
   "metadata": {},
   "outputs": [],
   "source": [
    "tok = Tokenizer() "
   ]
  },
  {
   "cell_type": "code",
   "execution_count": 41,
   "metadata": {},
   "outputs": [
    {
     "data": {
      "text/plain": [
       "['Do', \"n't\"]"
      ]
     },
     "execution_count": 41,
     "metadata": {},
     "output_type": "execute_result"
    }
   ],
   "source": [
    "tok.spacy_tok(\"Don't\")"
   ]
  },
  {
   "cell_type": "code",
   "execution_count": 268,
   "metadata": {
    "scrolled": true
   },
   "outputs": [
    {
     "data": {
      "text/plain": [
       "'xbos xfld 1 select *'"
      ]
     },
     "execution_count": 268,
     "metadata": {},
     "output_type": "execute_result"
    }
   ],
   "source": [
    "ss=\"\"\"xbos xfld 1 select *\"\"\"\n",
    "s = [tok.spacy_tok(ss)]\n",
    "t = np.array([[stoi[o] for o in p] for p in s])\n",
    "' '.join(s[0])"
   ]
  },
  {
   "cell_type": "code",
   "execution_count": 131,
   "metadata": {
    "collapsed": true
   },
   "outputs": [
    {
     "data": {
      "text/plain": [
       "SequentialRNN(\n",
       "  (0): RNN_Encoder(\n",
       "    (encoder): Embedding(15120, 400, padding_idx=1)\n",
       "    (encoder_with_dropout): EmbeddingDropout(\n",
       "      (embed): Embedding(15120, 400, padding_idx=1)\n",
       "    )\n",
       "    (rnns): ModuleList(\n",
       "      (0): WeightDrop(\n",
       "        (module): LSTM(400, 1150, dropout=0.105)\n",
       "      )\n",
       "      (1): WeightDrop(\n",
       "        (module): LSTM(1150, 1150, dropout=0.105)\n",
       "      )\n",
       "      (2): WeightDrop(\n",
       "        (module): LSTM(1150, 400, dropout=0.105)\n",
       "      )\n",
       "    )\n",
       "    (dropouti): LockedDropout(\n",
       "    )\n",
       "    (dropouths): ModuleList(\n",
       "      (0): LockedDropout(\n",
       "      )\n",
       "      (1): LockedDropout(\n",
       "      )\n",
       "      (2): LockedDropout(\n",
       "      )\n",
       "    )\n",
       "  )\n",
       "  (1): LinearDecoder(\n",
       "    (decoder): Linear(in_features=400, out_features=15120)\n",
       "    (dropout): LockedDropout(\n",
       "    )\n",
       "  )\n",
       ")"
      ]
     },
     "execution_count": 131,
     "metadata": {},
     "output_type": "execute_result"
    }
   ],
   "source": [
    "learner.models.model"
   ]
  },
  {
   "cell_type": "code",
   "execution_count": 269,
   "metadata": {},
   "outputs": [
    {
     "data": {
      "text/plain": [
       "array([[20, 21, 12, 11, 27]])"
      ]
     },
     "execution_count": 269,
     "metadata": {},
     "output_type": "execute_result"
    }
   ],
   "source": [
    "t"
   ]
  },
  {
   "cell_type": "code",
   "execution_count": 112,
   "metadata": {
    "collapsed": true
   },
   "outputs": [
    {
     "data": {
      "text/plain": [
       "(Variable containing:\n",
       "   0.2349  -8.3414  -0.3845  ...   -8.6600  -8.6066  -9.2950\n",
       "   0.6189  -9.5741   1.0493  ...   -9.1664  -8.9149  -9.6847\n",
       " [torch.cuda.FloatTensor of size 2x15120 (GPU 0)], [Variable containing:\n",
       "  ( 0  ,.,.) = \n",
       "   -5.2288e-03  1.6377e-02 -3.1390e-01  ...  -4.8317e-01 -4.9581e-01 -5.9567e-01\n",
       "   -1.3807e-01  5.6873e-01  1.2046e-02  ...  -3.5888e-01  1.5763e-02 -9.3326e-05\n",
       "  [torch.cuda.FloatTensor of size 1x2x1150 (GPU 0)], Variable containing:\n",
       "  ( 0  ,.,.) = \n",
       "   -1.1261e-01  6.9466e-02  8.9565e-01  ...   1.7050e-01  2.9960e-04 -1.1700e-02\n",
       "   -9.3580e-02 -7.6305e-02 -2.9760e-01  ...   8.2520e-03  9.6206e-01  2.9775e-01\n",
       "  [torch.cuda.FloatTensor of size 1x2x1150 (GPU 0)], Variable containing:\n",
       "  ( 0 ,.,.) = \n",
       "  \n",
       "  Columns 0 to 8 \n",
       "     0.7871 -0.6112 -0.2620  0.7383 -0.0851 -0.4950 -0.7999  0.6658 -0.7402\n",
       "   -0.1139 -0.8509 -0.0285  0.3889  0.6400 -0.0029 -0.7790  0.2000 -0.2901\n",
       "  \n",
       "  Columns 9 to 17 \n",
       "     0.6298  0.2109 -0.0791  0.0337 -0.1829 -0.3154  0.0189 -0.3094  0.0003\n",
       "   -0.4938  0.8445  0.8070 -0.0589 -0.0214  0.7566  0.6824 -0.0693 -0.1457\n",
       "  \n",
       "  Columns 18 to 26 \n",
       "    -0.4818 -0.8890  0.1378  0.7584  0.7454 -0.2905  0.7410  0.1364  0.8349\n",
       "   -0.5390 -0.2287  0.0424  0.2396  0.4035  0.0444 -0.1031 -0.3902  0.0977\n",
       "  \n",
       "  Columns 27 to 35 \n",
       "    -0.7963 -0.9238 -0.0213  0.9624 -0.3583 -0.8293 -0.9353  0.1413 -0.9273\n",
       "    0.0366 -0.6740 -0.0018 -0.3330 -0.1376 -0.0579  0.0009  0.0395  0.4318\n",
       "  \n",
       "  Columns 36 to 44 \n",
       "    -0.3644 -0.9265  0.0022 -0.0029 -0.2686 -0.0100 -0.0109 -0.0398 -0.7624\n",
       "   -0.7541 -0.1588 -0.0088 -0.0144 -0.1356  0.0006  0.5779 -0.4960 -0.0310\n",
       "  \n",
       "  Columns 45 to 53 \n",
       "    -0.6532  0.3728  0.8601  0.1097 -0.1587  0.7207 -0.8151  0.9967 -0.8477\n",
       "    0.7393 -0.2447  0.3295  0.3128 -0.1661 -0.8224  0.4768 -0.2500  0.4206\n",
       "  \n",
       "  Columns 54 to 62 \n",
       "     0.0476 -0.5418  0.8077 -0.5236  0.7377 -0.5559  0.0381 -0.0336 -0.0212\n",
       "    0.0476 -0.3950  0.2777  0.5230  0.7208 -0.1697  0.0023 -0.6291  0.3736\n",
       "  \n",
       "  Columns 63 to 71 \n",
       "    -0.6408  0.1447 -0.0800  0.0083  0.8428  0.8415  0.0013  0.6144 -0.6589\n",
       "   -0.2363  0.3854  0.8205 -0.0351 -0.8825  0.5283 -0.8499  0.4567 -0.3436\n",
       "  \n",
       "  Columns 72 to 80 \n",
       "     0.0928  0.0004 -0.3944 -0.4442  0.7885  0.4934 -0.0687 -0.0203 -0.1309\n",
       "    0.0022  0.9348 -0.3462 -0.6880  0.7217  0.0133 -0.6758 -0.0079 -0.0434\n",
       "  \n",
       "  Columns 81 to 89 \n",
       "    -0.1385  0.5406  0.0010 -0.0644  0.9254  0.5758  0.1199  0.0120 -0.7524\n",
       "   -0.0209  0.0572  0.6931  0.7764 -0.1969  0.8350  0.0099  0.0030  0.1958\n",
       "  \n",
       "  Columns 90 to 98 \n",
       "     0.9756  0.2516 -0.5707 -0.4538  0.0005  0.0012  0.5509 -0.0067 -0.6541\n",
       "   -0.1192 -0.2280  0.9573 -0.0033  0.0003  0.0405 -0.1142 -0.3795  0.7563\n",
       "  \n",
       "  Columns 99 to 107 \n",
       "     0.1095  0.3759  0.2394  0.4789  0.2060  0.0013  0.9370  0.0001 -0.6975\n",
       "   -0.1323  0.1157  0.1237 -0.0863 -0.4368  0.0551 -0.5299 -0.0863 -0.9455\n",
       "  \n",
       "  Columns 108 to 116 \n",
       "     0.0001 -0.0575  0.3274  0.0864  0.6316 -0.1763 -0.1939  0.9913  0.7730\n",
       "    0.1211 -0.0130  0.3734  0.7993  0.7213 -0.2152  0.2906  0.9892 -0.8340\n",
       "  \n",
       "  Columns 117 to 125 \n",
       "    -0.7665 -0.5590 -0.0031  0.3549  0.9920 -0.5018  0.1145  0.3636 -0.8572\n",
       "    0.3144 -0.0910  0.4894 -0.8560  0.1298  0.0017  0.5552  0.2709  0.4333\n",
       "  \n",
       "  Columns 126 to 134 \n",
       "     0.6991 -0.6692  0.6742  0.7898 -0.1648  0.0945  0.3742  0.9476 -0.2707\n",
       "   -0.3159  0.2088  0.8057  0.6744 -0.0322  0.0236 -0.0729  0.0475  0.1261\n",
       "  \n",
       "  Columns 135 to 143 \n",
       "     0.1591  0.6937 -0.7162 -0.2560  0.5897  0.2066 -0.3692 -0.0093  0.4032\n",
       "    0.5862  0.0040  0.8099  0.6248  0.9812  0.4014 -0.8181  0.0799  0.0893\n",
       "  \n",
       "  Columns 144 to 152 \n",
       "    -0.0703  0.0780  0.4213  0.0017  0.1101 -0.5923 -0.8136 -0.0005 -0.0438\n",
       "   -0.1942 -0.0139 -0.1874  0.0225  0.1407 -0.0028  0.4969 -0.3239 -0.6242\n",
       "  \n",
       "  Columns 153 to 161 \n",
       "     0.4141 -0.1179  0.8082 -0.6425  0.9610  0.8578  0.7427  0.7336  0.0593\n",
       "    0.7180  0.2156  0.0059 -0.0593 -0.9717 -0.3746  0.1472 -0.7132  0.8531\n",
       "  \n",
       "  Columns 162 to 170 \n",
       "    -0.8061 -0.6423 -0.2127  0.0571 -0.0947 -0.9404 -0.0994 -0.8259  0.0004\n",
       "   -0.0223 -0.0174 -0.1979  0.3971 -0.0367 -0.2500 -0.1127 -0.0490  0.0848\n",
       "  \n",
       "  Columns 171 to 179 \n",
       "    -0.0262  0.2640  0.7898  0.1742  0.2741  0.7388  0.0415  0.2304  0.8947\n",
       "   -0.8775  0.1010 -0.3035  0.0490  0.0314 -0.0462 -0.0224 -0.0783 -0.2442\n",
       "  \n",
       "  Columns 180 to 188 \n",
       "    -0.0005 -0.4557 -0.3150 -0.0272  0.5577  0.0357  0.0803  0.0330 -0.1283\n",
       "   -0.8936  0.0388  0.0001  0.3212 -0.0668  0.0221  0.4609 -0.8614  0.0034\n",
       "  \n",
       "  Columns 189 to 197 \n",
       "     0.1853 -0.9562 -0.1781 -0.0472  0.0819  0.8437 -0.0531  0.0278 -0.3060\n",
       "    0.1156 -0.0021  0.0318 -0.0186  0.5220 -0.6996 -0.9868  0.0059 -0.6733\n",
       "  \n",
       "  Columns 198 to 206 \n",
       "    -0.0098 -0.9509  0.1263  0.2450  0.1166  0.0017 -0.3808  0.1809 -0.4976\n",
       "   -0.3726 -0.5749 -0.1740  0.5094 -0.2762  0.0813  0.6207  0.7901 -0.0199\n",
       "  \n",
       "  Columns 207 to 215 \n",
       "     0.0024 -0.3606  0.1028  0.0044  0.5847 -0.9969 -0.0245 -0.2810 -0.0222\n",
       "    0.5485  0.5619  0.1426  0.0955  0.4699 -0.9006  0.0450 -0.0333  0.7565\n",
       "  \n",
       "  Columns 216 to 224 \n",
       "    -0.4368 -0.2593  0.2271 -0.7760 -0.8096 -0.1438 -0.2029  0.2014 -0.0104\n",
       "    0.1769  0.7409  0.1947 -0.3035  0.0570  0.0456 -0.2784  0.0405  0.1030\n",
       "  \n",
       "  Columns 225 to 233 \n",
       "    -0.0532  0.7218  0.1029 -0.8510 -0.3384  0.1516 -0.8552  0.5253  0.0194\n",
       "    0.8507 -0.0733 -0.8495 -0.1284  0.2268 -0.0060 -0.0001  0.8265  0.0183\n",
       "  \n",
       "  Columns 234 to 242 \n",
       "    -0.9878 -0.4964 -0.1975  0.7666  0.0398  0.0063  0.0125 -0.0613 -0.5509\n",
       "   -0.9949 -0.0772 -0.0773 -0.0038  0.0882 -0.9367  0.0106 -0.4224 -0.2166\n",
       "  \n",
       "  Columns 243 to 251 \n",
       "     0.0049 -0.9613  0.4655  0.3249 -0.4527  0.6231  0.0784  0.2952  0.0494\n",
       "    0.0020 -0.0095  0.2992 -0.0050 -0.5748 -0.0963 -0.5797  0.0365  0.2834\n",
       "  \n",
       "  Columns 252 to 260 \n",
       "     0.0282 -0.0211  0.6424 -0.2714 -0.0061  0.7608  0.0275 -0.1946 -0.1644\n",
       "    0.0005 -0.0284 -0.2806 -0.6742  0.5551 -0.9878 -0.0019  0.7312 -0.9859\n",
       "  \n",
       "  Columns 261 to 269 \n",
       "     0.3944  0.9943 -0.7067 -0.0238 -0.1623  0.0891 -0.6341 -0.0070  0.6802\n",
       "   -0.0559  0.4346  0.0917 -0.8055 -0.3376  0.0894 -0.7533 -0.0604 -0.6877\n",
       "  \n",
       "  Columns 270 to 278 \n",
       "     0.0495 -0.7201  0.0554  0.6025 -0.4890  0.2862 -0.8818  0.0156  0.2180\n",
       "   -0.6110  0.0285  0.1313 -0.2750  0.9824  0.2936  0.6146  0.0056  0.2819\n",
       "  \n",
       "  Columns 279 to 287 \n",
       "    -0.9808 -0.4749  0.3663 -0.6688 -0.0037 -0.0316 -0.9513  0.0472 -0.6404\n",
       "   -0.1633 -0.9480 -0.3239 -0.0009  0.0187 -0.9845  0.8193  0.1780  0.7898\n",
       "  \n",
       "  Columns 288 to 296 \n",
       "     0.7425 -0.6344  0.0790 -0.9962 -0.6730 -0.5519  0.0031  0.1916 -0.0202\n",
       "    0.7385 -0.2209 -0.0265 -0.5941 -0.0152  0.1545 -0.0044  0.1192  0.0122\n",
       "  \n",
       "  Columns 297 to 305 \n",
       "     0.3436 -0.1737  0.2539  0.2174 -0.2801  0.2592 -0.2741  0.2238 -0.2414\n",
       "    0.0038 -0.0000  0.0191  0.5680 -0.5577  0.6923  0.6795 -0.6228 -0.7262\n",
       "  \n",
       "  Columns 306 to 314 \n",
       "    -0.7146  0.7446 -0.5886  0.0542  0.0042  0.9308  0.5791 -0.9860  0.9608\n",
       "   -0.3806 -0.0406  0.5787 -0.2472  0.1127  0.0533  0.0068  0.0180  0.0575\n",
       "  \n",
       "  Columns 315 to 323 \n",
       "     0.9824  0.7738 -0.7304  0.0015 -0.7712 -0.5048 -0.7491  0.6570 -0.8069\n",
       "    0.1457  0.6732  0.7554 -0.9440 -0.2762 -0.9821  0.0018  0.2653 -0.0253\n",
       "  \n",
       "  Columns 324 to 332 \n",
       "    -0.0018  0.1227  0.7673  0.8093  0.0039  0.0905  0.0104  0.6140  0.2977\n",
       "    0.8582  0.3829 -0.1048  0.1882  0.9626  0.9062  0.0045  0.4165 -0.0577\n",
       "  \n",
       "  Columns 333 to 341 \n",
       "    -0.2046 -0.7296  0.6785  0.6125  0.4055 -0.4404  0.5442  0.5530  0.2647\n",
       "    0.6802  0.1393 -0.8183  0.9884 -0.1730  0.0685  0.4692 -0.8348 -0.4573\n",
       "  \n",
       "  Columns 342 to 350 \n",
       "    -0.4360  0.5472 -0.9469  0.5075  0.7194  0.8403  0.0705  0.1295  0.8976\n",
       "   -0.0213 -0.7771 -0.5980  0.4334 -0.1494 -0.4824  0.1464  0.0220 -0.5225\n",
       "  \n",
       "  Columns 351 to 359 \n",
       "    -0.6189 -0.8881 -0.0024 -0.0141  0.9818 -0.3291 -0.0262 -0.1516  0.3947\n",
       "    0.5707  0.5506 -0.7774 -0.2881  0.6534  0.2151  0.6410  0.1145 -0.8978\n",
       "  \n",
       "  Columns 360 to 368 \n",
       "    -0.0161 -0.2087 -0.1095 -0.7531 -0.6343  0.1010 -0.8576 -0.2697 -0.1244\n",
       "   -0.0339 -0.0063 -0.8122  0.3033  0.5988  0.7196 -0.1254 -0.1386  0.2702\n",
       "  \n",
       "  Columns 369 to 377 \n",
       "    -0.9996 -0.3512 -0.2162 -0.7440 -0.6300 -0.0677 -0.1202 -0.3070 -0.6975\n",
       "   -0.2323 -0.6619 -0.9732  0.7783 -0.1606 -0.0013 -0.0078 -0.0664 -0.9845\n",
       "  \n",
       "  Columns 378 to 386 \n",
       "    -0.9348  0.2421 -0.6515 -0.0448 -0.0059  0.0419  0.0156  0.9960  0.0011\n",
       "    0.0029 -0.4322 -0.0003 -0.1069 -0.2314  0.9726  0.2283  0.9475 -0.1508\n",
       "  \n",
       "  Columns 387 to 395 \n",
       "     0.0644 -0.4363 -0.0009 -0.0139 -0.0146  0.0783  0.7477  0.0071 -0.0129\n",
       "    0.0926 -0.7769 -0.1741 -0.4098 -0.2766 -0.0609 -0.8786  0.0016  0.5528\n",
       "  \n",
       "  Columns 396 to 399 \n",
       "     0.0024  0.9467  0.5853  0.2908\n",
       "    0.3138  0.7680  0.0098  0.0378\n",
       "  [torch.cuda.FloatTensor of size 1x2x400 (GPU 0)]], [Variable containing:\n",
       "  ( 0  ,.,.) = \n",
       "   -5.2288e-03  1.6377e-02 -3.1390e-01  ...  -4.8317e-01 -4.9581e-01 -5.9567e-01\n",
       "   -1.3807e-01  5.6873e-01  1.2046e-02  ...  -3.5888e-01  1.5763e-02 -9.3326e-05\n",
       "  [torch.cuda.FloatTensor of size 1x2x1150 (GPU 0)], Variable containing:\n",
       "  ( 0  ,.,.) = \n",
       "   -1.1261e-01  6.9466e-02  8.9565e-01  ...   1.7050e-01  2.9960e-04 -1.1700e-02\n",
       "   -9.3580e-02 -7.6305e-02 -2.9760e-01  ...   8.2520e-03  9.6206e-01  2.9775e-01\n",
       "  [torch.cuda.FloatTensor of size 1x2x1150 (GPU 0)], Variable containing:\n",
       "  ( 0 ,.,.) = \n",
       "  \n",
       "  Columns 0 to 8 \n",
       "     0.7871 -0.6112 -0.2620  0.7383 -0.0851 -0.4950 -0.7999  0.6658 -0.7402\n",
       "   -0.1139 -0.8509 -0.0285  0.3889  0.6400 -0.0029 -0.7790  0.2000 -0.2901\n",
       "  \n",
       "  Columns 9 to 17 \n",
       "     0.6298  0.2109 -0.0791  0.0337 -0.1829 -0.3154  0.0189 -0.3094  0.0003\n",
       "   -0.4938  0.8445  0.8070 -0.0589 -0.0214  0.7566  0.6824 -0.0693 -0.1457\n",
       "  \n",
       "  Columns 18 to 26 \n",
       "    -0.4818 -0.8890  0.1378  0.7584  0.7454 -0.2905  0.7410  0.1364  0.8349\n",
       "   -0.5390 -0.2287  0.0424  0.2396  0.4035  0.0444 -0.1031 -0.3902  0.0977\n",
       "  \n",
       "  Columns 27 to 35 \n",
       "    -0.7963 -0.9238 -0.0213  0.9624 -0.3583 -0.8293 -0.9353  0.1413 -0.9273\n",
       "    0.0366 -0.6740 -0.0018 -0.3330 -0.1376 -0.0579  0.0009  0.0395  0.4318\n",
       "  \n",
       "  Columns 36 to 44 \n",
       "    -0.3644 -0.9265  0.0022 -0.0029 -0.2686 -0.0100 -0.0109 -0.0398 -0.7624\n",
       "   -0.7541 -0.1588 -0.0088 -0.0144 -0.1356  0.0006  0.5779 -0.4960 -0.0310\n",
       "  \n",
       "  Columns 45 to 53 \n",
       "    -0.6532  0.3728  0.8601  0.1097 -0.1587  0.7207 -0.8151  0.9967 -0.8477\n",
       "    0.7393 -0.2447  0.3295  0.3128 -0.1661 -0.8224  0.4768 -0.2500  0.4206\n",
       "  \n",
       "  Columns 54 to 62 \n",
       "     0.0476 -0.5418  0.8077 -0.5236  0.7377 -0.5559  0.0381 -0.0336 -0.0212\n",
       "    0.0476 -0.3950  0.2777  0.5230  0.7208 -0.1697  0.0023 -0.6291  0.3736\n",
       "  \n",
       "  Columns 63 to 71 \n",
       "    -0.6408  0.1447 -0.0800  0.0083  0.8428  0.8415  0.0013  0.6144 -0.6589\n",
       "   -0.2363  0.3854  0.8205 -0.0351 -0.8825  0.5283 -0.8499  0.4567 -0.3436\n",
       "  \n",
       "  Columns 72 to 80 \n",
       "     0.0928  0.0004 -0.3944 -0.4442  0.7885  0.4934 -0.0687 -0.0203 -0.1309\n",
       "    0.0022  0.9348 -0.3462 -0.6880  0.7217  0.0133 -0.6758 -0.0079 -0.0434\n",
       "  \n",
       "  Columns 81 to 89 \n",
       "    -0.1385  0.5406  0.0010 -0.0644  0.9254  0.5758  0.1199  0.0120 -0.7524\n",
       "   -0.0209  0.0572  0.6931  0.7764 -0.1969  0.8350  0.0099  0.0030  0.1958\n",
       "  \n",
       "  Columns 90 to 98 \n",
       "     0.9756  0.2516 -0.5707 -0.4538  0.0005  0.0012  0.5509 -0.0067 -0.6541\n",
       "   -0.1192 -0.2280  0.9573 -0.0033  0.0003  0.0405 -0.1142 -0.3795  0.7563\n",
       "  \n",
       "  Columns 99 to 107 \n",
       "     0.1095  0.3759  0.2394  0.4789  0.2060  0.0013  0.9370  0.0001 -0.6975\n",
       "   -0.1323  0.1157  0.1237 -0.0863 -0.4368  0.0551 -0.5299 -0.0863 -0.9455\n",
       "  \n",
       "  Columns 108 to 116 \n",
       "     0.0001 -0.0575  0.3274  0.0864  0.6316 -0.1763 -0.1939  0.9913  0.7730\n",
       "    0.1211 -0.0130  0.3734  0.7993  0.7213 -0.2152  0.2906  0.9892 -0.8340\n",
       "  \n",
       "  Columns 117 to 125 \n",
       "    -0.7665 -0.5590 -0.0031  0.3549  0.9920 -0.5018  0.1145  0.3636 -0.8572\n",
       "    0.3144 -0.0910  0.4894 -0.8560  0.1298  0.0017  0.5552  0.2709  0.4333\n",
       "  \n",
       "  Columns 126 to 134 \n",
       "     0.6991 -0.6692  0.6742  0.7898 -0.1648  0.0945  0.3742  0.9476 -0.2707\n",
       "   -0.3159  0.2088  0.8057  0.6744 -0.0322  0.0236 -0.0729  0.0475  0.1261\n",
       "  \n",
       "  Columns 135 to 143 \n",
       "     0.1591  0.6937 -0.7162 -0.2560  0.5897  0.2066 -0.3692 -0.0093  0.4032\n",
       "    0.5862  0.0040  0.8099  0.6248  0.9812  0.4014 -0.8181  0.0799  0.0893\n",
       "  \n",
       "  Columns 144 to 152 \n",
       "    -0.0703  0.0780  0.4213  0.0017  0.1101 -0.5923 -0.8136 -0.0005 -0.0438\n",
       "   -0.1942 -0.0139 -0.1874  0.0225  0.1407 -0.0028  0.4969 -0.3239 -0.6242\n",
       "  \n",
       "  Columns 153 to 161 \n",
       "     0.4141 -0.1179  0.8082 -0.6425  0.9610  0.8578  0.7427  0.7336  0.0593\n",
       "    0.7180  0.2156  0.0059 -0.0593 -0.9717 -0.3746  0.1472 -0.7132  0.8531\n",
       "  \n",
       "  Columns 162 to 170 \n",
       "    -0.8061 -0.6423 -0.2127  0.0571 -0.0947 -0.9404 -0.0994 -0.8259  0.0004\n",
       "   -0.0223 -0.0174 -0.1979  0.3971 -0.0367 -0.2500 -0.1127 -0.0490  0.0848\n",
       "  \n",
       "  Columns 171 to 179 \n",
       "    -0.0262  0.2640  0.7898  0.1742  0.2741  0.7388  0.0415  0.2304  0.8947\n",
       "   -0.8775  0.1010 -0.3035  0.0490  0.0314 -0.0462 -0.0224 -0.0783 -0.2442\n",
       "  \n",
       "  Columns 180 to 188 \n",
       "    -0.0005 -0.4557 -0.3150 -0.0272  0.5577  0.0357  0.0803  0.0330 -0.1283\n",
       "   -0.8936  0.0388  0.0001  0.3212 -0.0668  0.0221  0.4609 -0.8614  0.0034\n",
       "  \n",
       "  Columns 189 to 197 \n",
       "     0.1853 -0.9562 -0.1781 -0.0472  0.0819  0.8437 -0.0531  0.0278 -0.3060\n",
       "    0.1156 -0.0021  0.0318 -0.0186  0.5220 -0.6996 -0.9868  0.0059 -0.6733\n",
       "  \n",
       "  Columns 198 to 206 \n",
       "    -0.0098 -0.9509  0.1263  0.2450  0.1166  0.0017 -0.3808  0.1809 -0.4976\n",
       "   -0.3726 -0.5749 -0.1740  0.5094 -0.2762  0.0813  0.6207  0.7901 -0.0199\n",
       "  \n",
       "  Columns 207 to 215 \n",
       "     0.0024 -0.3606  0.1028  0.0044  0.5847 -0.9969 -0.0245 -0.2810 -0.0222\n",
       "    0.5485  0.5619  0.1426  0.0955  0.4699 -0.9006  0.0450 -0.0333  0.7565\n",
       "  \n",
       "  Columns 216 to 224 \n",
       "    -0.4368 -0.2593  0.2271 -0.7760 -0.8096 -0.1438 -0.2029  0.2014 -0.0104\n",
       "    0.1769  0.7409  0.1947 -0.3035  0.0570  0.0456 -0.2784  0.0405  0.1030\n",
       "  \n",
       "  Columns 225 to 233 \n",
       "    -0.0532  0.7218  0.1029 -0.8510 -0.3384  0.1516 -0.8552  0.5253  0.0194\n",
       "    0.8507 -0.0733 -0.8495 -0.1284  0.2268 -0.0060 -0.0001  0.8265  0.0183\n",
       "  \n",
       "  Columns 234 to 242 \n",
       "    -0.9878 -0.4964 -0.1975  0.7666  0.0398  0.0063  0.0125 -0.0613 -0.5509\n",
       "   -0.9949 -0.0772 -0.0773 -0.0038  0.0882 -0.9367  0.0106 -0.4224 -0.2166\n",
       "  \n",
       "  Columns 243 to 251 \n",
       "     0.0049 -0.9613  0.4655  0.3249 -0.4527  0.6231  0.0784  0.2952  0.0494\n",
       "    0.0020 -0.0095  0.2992 -0.0050 -0.5748 -0.0963 -0.5797  0.0365  0.2834\n",
       "  \n",
       "  Columns 252 to 260 \n",
       "     0.0282 -0.0211  0.6424 -0.2714 -0.0061  0.7608  0.0275 -0.1946 -0.1644\n",
       "    0.0005 -0.0284 -0.2806 -0.6742  0.5551 -0.9878 -0.0019  0.7312 -0.9859\n",
       "  \n",
       "  Columns 261 to 269 \n",
       "     0.3944  0.9943 -0.7067 -0.0238 -0.1623  0.0891 -0.6341 -0.0070  0.6802\n",
       "   -0.0559  0.4346  0.0917 -0.8055 -0.3376  0.0894 -0.7533 -0.0604 -0.6877\n",
       "  \n",
       "  Columns 270 to 278 \n",
       "     0.0495 -0.7201  0.0554  0.6025 -0.4890  0.2862 -0.8818  0.0156  0.2180\n",
       "   -0.6110  0.0285  0.1313 -0.2750  0.9824  0.2936  0.6146  0.0056  0.2819\n",
       "  \n",
       "  Columns 279 to 287 \n",
       "    -0.9808 -0.4749  0.3663 -0.6688 -0.0037 -0.0316 -0.9513  0.0472 -0.6404\n",
       "   -0.1633 -0.9480 -0.3239 -0.0009  0.0187 -0.9845  0.8193  0.1780  0.7898\n",
       "  \n",
       "  Columns 288 to 296 \n",
       "     0.7425 -0.6344  0.0790 -0.9962 -0.6730 -0.5519  0.0031  0.1916 -0.0202\n",
       "    0.7385 -0.2209 -0.0265 -0.5941 -0.0152  0.1545 -0.0044  0.1192  0.0122\n",
       "  \n",
       "  Columns 297 to 305 \n",
       "     0.3436 -0.1737  0.2539  0.2174 -0.2801  0.2592 -0.2741  0.2238 -0.2414\n",
       "    0.0038 -0.0000  0.0191  0.5680 -0.5577  0.6923  0.6795 -0.6228 -0.7262\n",
       "  \n",
       "  Columns 306 to 314 \n",
       "    -0.7146  0.7446 -0.5886  0.0542  0.0042  0.9308  0.5791 -0.9860  0.9608\n",
       "   -0.3806 -0.0406  0.5787 -0.2472  0.1127  0.0533  0.0068  0.0180  0.0575\n",
       "  \n",
       "  Columns 315 to 323 \n",
       "     0.9824  0.7738 -0.7304  0.0015 -0.7712 -0.5048 -0.7491  0.6570 -0.8069\n",
       "    0.1457  0.6732  0.7554 -0.9440 -0.2762 -0.9821  0.0018  0.2653 -0.0253\n",
       "  \n",
       "  Columns 324 to 332 \n",
       "    -0.0018  0.1227  0.7673  0.8093  0.0039  0.0905  0.0104  0.6140  0.2977\n",
       "    0.8582  0.3829 -0.1048  0.1882  0.9626  0.9062  0.0045  0.4165 -0.0577\n",
       "  \n",
       "  Columns 333 to 341 \n",
       "    -0.2046 -0.7296  0.6785  0.6125  0.4055 -0.4404  0.5442  0.5530  0.2647\n",
       "    0.6802  0.1393 -0.8183  0.9884 -0.1730  0.0685  0.4692 -0.8348 -0.4573\n",
       "  \n",
       "  Columns 342 to 350 \n",
       "    -0.4360  0.5472 -0.9469  0.5075  0.7194  0.8403  0.0705  0.1295  0.8976\n",
       "   -0.0213 -0.7771 -0.5980  0.4334 -0.1494 -0.4824  0.1464  0.0220 -0.5225\n",
       "  \n",
       "  Columns 351 to 359 \n",
       "    -0.6189 -0.8881 -0.0024 -0.0141  0.9818 -0.3291 -0.0262 -0.1516  0.3947\n",
       "    0.5707  0.5506 -0.7774 -0.2881  0.6534  0.2151  0.6410  0.1145 -0.8978\n",
       "  \n",
       "  Columns 360 to 368 \n",
       "    -0.0161 -0.2087 -0.1095 -0.7531 -0.6343  0.1010 -0.8576 -0.2697 -0.1244\n",
       "   -0.0339 -0.0063 -0.8122  0.3033  0.5988  0.7196 -0.1254 -0.1386  0.2702\n",
       "  \n",
       "  Columns 369 to 377 \n",
       "    -0.9996 -0.3512 -0.2162 -0.7440 -0.6300 -0.0677 -0.1202 -0.3070 -0.6975\n",
       "   -0.2323 -0.6619 -0.9732  0.7783 -0.1606 -0.0013 -0.0078 -0.0664 -0.9845\n",
       "  \n",
       "  Columns 378 to 386 \n",
       "    -0.9348  0.2421 -0.6515 -0.0448 -0.0059  0.0419  0.0156  0.9960  0.0011\n",
       "    0.0029 -0.4322 -0.0003 -0.1069 -0.2314  0.9726  0.2283  0.9475 -0.1508\n",
       "  \n",
       "  Columns 387 to 395 \n",
       "     0.0644 -0.4363 -0.0009 -0.0139 -0.0146  0.0783  0.7477  0.0071 -0.0129\n",
       "    0.0926 -0.7769 -0.1741 -0.4098 -0.2766 -0.0609 -0.8786  0.0016  0.5528\n",
       "  \n",
       "  Columns 396 to 399 \n",
       "     0.0024  0.9467  0.5853  0.2908\n",
       "    0.3138  0.7680  0.0098  0.0378\n",
       "  [torch.cuda.FloatTensor of size 1x2x400 (GPU 0)]])"
      ]
     },
     "execution_count": 112,
     "metadata": {},
     "output_type": "execute_result"
    }
   ],
   "source": [
    "learner.model(to_gpu(V(T(t))))"
   ]
  },
  {
   "cell_type": "code",
   "execution_count": 177,
   "metadata": {},
   "outputs": [],
   "source": [
    "??learner.predict_array()"
   ]
  },
  {
   "cell_type": "code",
   "execution_count": 261,
   "metadata": {},
   "outputs": [],
   "source": [
    "def tok_translate(inp,n):\n",
    "    s = [tok.spacy_tok(inp)]\n",
    "    tok_arr = np.array([[stoi[o] for o in p] for p in s])\n",
    "    output = inp\n",
    "    for i in range(n):\n",
    "        tok_idx = get_next(tok_arr)\n",
    "        word = itos[tok_idx]\n",
    "        output += word\n",
    "        tok_arr = tok_arr[1:]+tok_idx\n",
    "    return word\n",
    "def get_next(token):\n",
    "    learner.model(V(token))\n",
    "    return to_np(torch.multinomial(probs[0][-1].exp(), 1))[0]"
   ]
  },
  {
   "cell_type": "code",
   "execution_count": 270,
   "metadata": {},
   "outputs": [],
   "source": [
    " = tok.spacy_tok(\"\"\"select *\"\"\")"
   ]
  },
  {
   "cell_type": "code",
   "execution_count": 271,
   "metadata": {},
   "outputs": [
    {
     "data": {
      "text/plain": [
       "['select', '*']"
      ]
     },
     "execution_count": 271,
     "metadata": {},
     "output_type": "execute_result"
    }
   ],
   "source": [
    "t"
   ]
  },
  {
   "cell_type": "code",
   "execution_count": 267,
   "metadata": {},
   "outputs": [
    {
     "data": {
      "text/plain": [
       "array([list([368, 566, 1194, 566, 149, 99]), list([27])], dtype=object)"
      ]
     },
     "execution_count": 267,
     "metadata": {},
     "output_type": "execute_result"
    }
   ],
   "source": [
    "np.array([[stoi[o] for o in p] for p in s])"
   ]
  },
  {
   "cell_type": "code",
   "execution_count": null,
   "metadata": {},
   "outputs": [],
   "source": []
  },
  {
   "cell_type": "code",
   "execution_count": 263,
   "metadata": {
    "scrolled": true
   },
   "outputs": [
    {
     "name": "stdout",
     "output_type": "stream",
     "text": [
      "> \u001b[0;32m/home/kbird/fastaip1v2/fastai/courses/dl2/fastai/core.py\u001b[0m(18)\u001b[0;36mT\u001b[0;34m()\u001b[0m\n",
      "\u001b[0;32m     16 \u001b[0;31m        \u001b[0ma\u001b[0m \u001b[0;34m=\u001b[0m \u001b[0mnp\u001b[0m\u001b[0;34m.\u001b[0m\u001b[0marray\u001b[0m\u001b[0;34m(\u001b[0m\u001b[0mnp\u001b[0m\u001b[0;34m.\u001b[0m\u001b[0mascontiguousarray\u001b[0m\u001b[0;34m(\u001b[0m\u001b[0ma\u001b[0m\u001b[0;34m)\u001b[0m\u001b[0;34m)\u001b[0m\u001b[0;34m\u001b[0m\u001b[0m\n",
      "\u001b[0m\u001b[0;32m     17 \u001b[0;31m        \u001b[0;32mif\u001b[0m \u001b[0ma\u001b[0m\u001b[0;34m.\u001b[0m\u001b[0mdtype\u001b[0m \u001b[0;32min\u001b[0m \u001b[0;34m(\u001b[0m\u001b[0mnp\u001b[0m\u001b[0;34m.\u001b[0m\u001b[0mint8\u001b[0m\u001b[0;34m,\u001b[0m \u001b[0mnp\u001b[0m\u001b[0;34m.\u001b[0m\u001b[0mint16\u001b[0m\u001b[0;34m,\u001b[0m \u001b[0mnp\u001b[0m\u001b[0;34m.\u001b[0m\u001b[0mint32\u001b[0m\u001b[0;34m,\u001b[0m \u001b[0mnp\u001b[0m\u001b[0;34m.\u001b[0m\u001b[0mint64\u001b[0m\u001b[0;34m)\u001b[0m\u001b[0;34m:\u001b[0m\u001b[0;34m\u001b[0m\u001b[0m\n",
      "\u001b[0m\u001b[0;32m---> 18 \u001b[0;31m            \u001b[0mres\u001b[0m \u001b[0;34m=\u001b[0m \u001b[0mtorch\u001b[0m\u001b[0;34m.\u001b[0m\u001b[0mLongTensor\u001b[0m\u001b[0;34m(\u001b[0m\u001b[0ma\u001b[0m\u001b[0;34m.\u001b[0m\u001b[0mastype\u001b[0m\u001b[0;34m(\u001b[0m\u001b[0mnp\u001b[0m\u001b[0;34m.\u001b[0m\u001b[0mint64\u001b[0m\u001b[0;34m)\u001b[0m\u001b[0;34m)\u001b[0m\u001b[0;34m\u001b[0m\u001b[0m\n",
      "\u001b[0m\u001b[0;32m     19 \u001b[0;31m        \u001b[0;32melif\u001b[0m \u001b[0ma\u001b[0m\u001b[0;34m.\u001b[0m\u001b[0mdtype\u001b[0m \u001b[0;32min\u001b[0m \u001b[0;34m(\u001b[0m\u001b[0mnp\u001b[0m\u001b[0;34m.\u001b[0m\u001b[0mfloat32\u001b[0m\u001b[0;34m,\u001b[0m \u001b[0mnp\u001b[0m\u001b[0;34m.\u001b[0m\u001b[0mfloat64\u001b[0m\u001b[0;34m)\u001b[0m\u001b[0;34m:\u001b[0m\u001b[0;34m\u001b[0m\u001b[0m\n",
      "\u001b[0m\u001b[0;32m     20 \u001b[0;31m            \u001b[0mres\u001b[0m \u001b[0;34m=\u001b[0m \u001b[0mtorch\u001b[0m\u001b[0;34m.\u001b[0m\u001b[0mFloatTensor\u001b[0m\u001b[0;34m(\u001b[0m\u001b[0ma\u001b[0m\u001b[0;34m.\u001b[0m\u001b[0mastype\u001b[0m\u001b[0;34m(\u001b[0m\u001b[0mnp\u001b[0m\u001b[0;34m.\u001b[0m\u001b[0mfloat32\u001b[0m\u001b[0;34m)\u001b[0m\u001b[0;34m)\u001b[0m\u001b[0;34m\u001b[0m\u001b[0m\n",
      "\u001b[0m\n",
      "ipdb> h\n",
      "\n",
      "Documented commands (type help <topic>):\n",
      "========================================\n",
      "EOF    cl         disable  interact  next    psource  rv         unt   \n",
      "a      clear      display  j         p       q        s          until \n",
      "alias  commands   down     jump      pdef    quit     source     up    \n",
      "args   condition  enable   l         pdoc    r        step       w     \n",
      "b      cont       exit     list      pfile   restart  tbreak     whatis\n",
      "break  continue   h        ll        pinfo   return   u          where \n",
      "bt     d          help     longlist  pinfo2  retval   unalias  \n",
      "c      debug      ignore   n         pp      run      undisplay\n",
      "\n",
      "Miscellaneous help topics:\n",
      "==========================\n",
      "exec  pdb\n",
      "\n",
      "ipdb> u\n",
      "> \u001b[0;32m/home/kbird/fastaip1v2/fastai/courses/dl2/fastai/core.py\u001b[0m(26)\u001b[0;36mcreate_variable\u001b[0;34m()\u001b[0m\n",
      "\u001b[0;32m     24 \u001b[0;31m\u001b[0;32mdef\u001b[0m \u001b[0mcreate_variable\u001b[0m\u001b[0;34m(\u001b[0m\u001b[0mx\u001b[0m\u001b[0;34m,\u001b[0m \u001b[0mvolatile\u001b[0m\u001b[0;34m,\u001b[0m \u001b[0mrequires_grad\u001b[0m\u001b[0;34m=\u001b[0m\u001b[0;32mFalse\u001b[0m\u001b[0;34m)\u001b[0m\u001b[0;34m:\u001b[0m\u001b[0;34m\u001b[0m\u001b[0m\n",
      "\u001b[0m\u001b[0;32m     25 \u001b[0;31m    \u001b[0;32mif\u001b[0m \u001b[0;32mnot\u001b[0m \u001b[0misinstance\u001b[0m\u001b[0;34m(\u001b[0m\u001b[0mx\u001b[0m\u001b[0;34m,\u001b[0m \u001b[0mVariable\u001b[0m\u001b[0;34m)\u001b[0m\u001b[0;34m:\u001b[0m\u001b[0;34m\u001b[0m\u001b[0m\n",
      "\u001b[0m\u001b[0;32m---> 26 \u001b[0;31m        \u001b[0mx\u001b[0m \u001b[0;34m=\u001b[0m \u001b[0mVariable\u001b[0m\u001b[0;34m(\u001b[0m\u001b[0mT\u001b[0m\u001b[0;34m(\u001b[0m\u001b[0mx\u001b[0m\u001b[0;34m)\u001b[0m\u001b[0;34m,\u001b[0m \u001b[0mvolatile\u001b[0m\u001b[0;34m=\u001b[0m\u001b[0mvolatile\u001b[0m\u001b[0;34m,\u001b[0m \u001b[0mrequires_grad\u001b[0m\u001b[0;34m=\u001b[0m\u001b[0mrequires_grad\u001b[0m\u001b[0;34m)\u001b[0m\u001b[0;34m\u001b[0m\u001b[0m\n",
      "\u001b[0m\u001b[0;32m     27 \u001b[0;31m    \u001b[0;32mreturn\u001b[0m \u001b[0mx\u001b[0m\u001b[0;34m\u001b[0m\u001b[0m\n",
      "\u001b[0m\u001b[0;32m     28 \u001b[0;31m\u001b[0;34m\u001b[0m\u001b[0m\n",
      "\u001b[0m\n",
      "ipdb> u\n",
      "> \u001b[0;32m/home/kbird/fastaip1v2/fastai/courses/dl2/fastai/core.py\u001b[0m(30)\u001b[0;36mV_\u001b[0;34m()\u001b[0m\n",
      "\u001b[0;32m     28 \u001b[0;31m\u001b[0;34m\u001b[0m\u001b[0m\n",
      "\u001b[0m\u001b[0;32m     29 \u001b[0;31m\u001b[0;32mdef\u001b[0m \u001b[0mV_\u001b[0m\u001b[0;34m(\u001b[0m\u001b[0mx\u001b[0m\u001b[0;34m,\u001b[0m \u001b[0mrequires_grad\u001b[0m\u001b[0;34m=\u001b[0m\u001b[0;32mFalse\u001b[0m\u001b[0;34m,\u001b[0m \u001b[0mvolatile\u001b[0m\u001b[0;34m=\u001b[0m\u001b[0;32mFalse\u001b[0m\u001b[0;34m)\u001b[0m\u001b[0;34m:\u001b[0m\u001b[0;34m\u001b[0m\u001b[0m\n",
      "\u001b[0m\u001b[0;32m---> 30 \u001b[0;31m    \u001b[0;32mreturn\u001b[0m \u001b[0mcreate_variable\u001b[0m\u001b[0;34m(\u001b[0m\u001b[0mx\u001b[0m\u001b[0;34m,\u001b[0m \u001b[0mvolatile\u001b[0m\u001b[0;34m=\u001b[0m\u001b[0mvolatile\u001b[0m\u001b[0;34m,\u001b[0m \u001b[0mrequires_grad\u001b[0m\u001b[0;34m=\u001b[0m\u001b[0mrequires_grad\u001b[0m\u001b[0;34m)\u001b[0m\u001b[0;34m\u001b[0m\u001b[0m\n",
      "\u001b[0m\u001b[0;32m     31 \u001b[0;31m\u001b[0;32mdef\u001b[0m \u001b[0mV\u001b[0m\u001b[0;34m(\u001b[0m\u001b[0mx\u001b[0m\u001b[0;34m,\u001b[0m \u001b[0mrequires_grad\u001b[0m\u001b[0;34m=\u001b[0m\u001b[0;32mFalse\u001b[0m\u001b[0;34m,\u001b[0m \u001b[0mvolatile\u001b[0m\u001b[0;34m=\u001b[0m\u001b[0;32mFalse\u001b[0m\u001b[0;34m)\u001b[0m\u001b[0;34m:\u001b[0m\u001b[0;34m\u001b[0m\u001b[0m\n",
      "\u001b[0m\u001b[0;32m     32 \u001b[0;31m    return [V_(o, requires_grad=requires_grad, volatile=volatile)\n",
      "\u001b[0m\n",
      "ipdb> u\n",
      "> \u001b[0;32m/home/kbird/fastaip1v2/fastai/courses/dl2/fastai/core.py\u001b[0m(33)\u001b[0;36mV\u001b[0;34m()\u001b[0m\n",
      "\u001b[0;32m     31 \u001b[0;31m\u001b[0;32mdef\u001b[0m \u001b[0mV\u001b[0m\u001b[0;34m(\u001b[0m\u001b[0mx\u001b[0m\u001b[0;34m,\u001b[0m \u001b[0mrequires_grad\u001b[0m\u001b[0;34m=\u001b[0m\u001b[0;32mFalse\u001b[0m\u001b[0;34m,\u001b[0m \u001b[0mvolatile\u001b[0m\u001b[0;34m=\u001b[0m\u001b[0;32mFalse\u001b[0m\u001b[0;34m)\u001b[0m\u001b[0;34m:\u001b[0m\u001b[0;34m\u001b[0m\u001b[0m\n",
      "\u001b[0m\u001b[0;32m     32 \u001b[0;31m    return [V_(o, requires_grad=requires_grad, volatile=volatile)\n",
      "\u001b[0m\u001b[0;32m---> 33 \u001b[0;31m            for o in x] if isinstance(x,(list,tuple)) else V_(x, requires_grad=requires_grad, volatile=volatile)\n",
      "\u001b[0m\u001b[0;32m     34 \u001b[0;31m\u001b[0;34m\u001b[0m\u001b[0m\n",
      "\u001b[0m\u001b[0;32m     35 \u001b[0;31m\u001b[0;32mdef\u001b[0m \u001b[0mVV_\u001b[0m\u001b[0;34m(\u001b[0m\u001b[0mx\u001b[0m\u001b[0;34m)\u001b[0m\u001b[0;34m:\u001b[0m \u001b[0;32mreturn\u001b[0m \u001b[0mcreate_variable\u001b[0m\u001b[0;34m(\u001b[0m\u001b[0mx\u001b[0m\u001b[0;34m,\u001b[0m \u001b[0;32mTrue\u001b[0m\u001b[0;34m)\u001b[0m\u001b[0;34m\u001b[0m\u001b[0m\n",
      "\u001b[0m\n",
      "ipdb> u\n",
      "> \u001b[0;32m<ipython-input-261-a96d818c215b>\u001b[0m(12)\u001b[0;36mget_next\u001b[0;34m()\u001b[0m\n",
      "\u001b[0;32m      9 \u001b[0;31m        \u001b[0mtok_arr\u001b[0m \u001b[0;34m=\u001b[0m \u001b[0mtok_arr\u001b[0m\u001b[0;34m[\u001b[0m\u001b[0;36m1\u001b[0m\u001b[0;34m:\u001b[0m\u001b[0;34m]\u001b[0m\u001b[0;34m+\u001b[0m\u001b[0mtok_idx\u001b[0m\u001b[0;34m\u001b[0m\u001b[0m\n",
      "\u001b[0m\u001b[0;32m     10 \u001b[0;31m    \u001b[0;32mreturn\u001b[0m \u001b[0mword\u001b[0m\u001b[0;34m\u001b[0m\u001b[0m\n",
      "\u001b[0m\u001b[0;32m     11 \u001b[0;31m\u001b[0;32mdef\u001b[0m \u001b[0mget_next\u001b[0m\u001b[0;34m(\u001b[0m\u001b[0mtoken\u001b[0m\u001b[0;34m)\u001b[0m\u001b[0;34m:\u001b[0m\u001b[0;34m\u001b[0m\u001b[0m\n",
      "\u001b[0m\u001b[0;32m---> 12 \u001b[0;31m    \u001b[0mlearner\u001b[0m\u001b[0;34m.\u001b[0m\u001b[0mmodel\u001b[0m\u001b[0;34m(\u001b[0m\u001b[0mV\u001b[0m\u001b[0;34m(\u001b[0m\u001b[0mtoken\u001b[0m\u001b[0;34m)\u001b[0m\u001b[0;34m)\u001b[0m\u001b[0;34m\u001b[0m\u001b[0m\n",
      "\u001b[0m\u001b[0;32m     13 \u001b[0;31m    \u001b[0;32mreturn\u001b[0m \u001b[0mto_np\u001b[0m\u001b[0;34m(\u001b[0m\u001b[0mtorch\u001b[0m\u001b[0;34m.\u001b[0m\u001b[0mmultinomial\u001b[0m\u001b[0;34m(\u001b[0m\u001b[0mprobs\u001b[0m\u001b[0;34m[\u001b[0m\u001b[0;36m0\u001b[0m\u001b[0;34m]\u001b[0m\u001b[0;34m[\u001b[0m\u001b[0;34m-\u001b[0m\u001b[0;36m1\u001b[0m\u001b[0;34m]\u001b[0m\u001b[0;34m.\u001b[0m\u001b[0mexp\u001b[0m\u001b[0;34m(\u001b[0m\u001b[0;34m)\u001b[0m\u001b[0;34m,\u001b[0m \u001b[0;36m1\u001b[0m\u001b[0;34m)\u001b[0m\u001b[0;34m)\u001b[0m\u001b[0;34m[\u001b[0m\u001b[0;36m0\u001b[0m\u001b[0;34m]\u001b[0m\u001b[0;34m\u001b[0m\u001b[0m\n",
      "\u001b[0m\n",
      "ipdb> token\n",
      "array([], shape=(0, 2), dtype=int64)\n",
      "ipdb> u\n",
      "> \u001b[0;32m<ipython-input-261-a96d818c215b>\u001b[0m(6)\u001b[0;36mtok_translate\u001b[0;34m()\u001b[0m\n",
      "\u001b[0;32m      4 \u001b[0;31m    \u001b[0moutput\u001b[0m \u001b[0;34m=\u001b[0m \u001b[0minp\u001b[0m\u001b[0;34m\u001b[0m\u001b[0m\n",
      "\u001b[0m\u001b[0;32m      5 \u001b[0;31m    \u001b[0;32mfor\u001b[0m \u001b[0mi\u001b[0m \u001b[0;32min\u001b[0m \u001b[0mrange\u001b[0m\u001b[0;34m(\u001b[0m\u001b[0mn\u001b[0m\u001b[0;34m)\u001b[0m\u001b[0;34m:\u001b[0m\u001b[0;34m\u001b[0m\u001b[0m\n",
      "\u001b[0m\u001b[0;32m----> 6 \u001b[0;31m        \u001b[0mtok_idx\u001b[0m \u001b[0;34m=\u001b[0m \u001b[0mget_next\u001b[0m\u001b[0;34m(\u001b[0m\u001b[0mtok_arr\u001b[0m\u001b[0;34m)\u001b[0m\u001b[0;34m\u001b[0m\u001b[0m\n",
      "\u001b[0m\u001b[0;32m      7 \u001b[0;31m        \u001b[0mword\u001b[0m \u001b[0;34m=\u001b[0m \u001b[0mitos\u001b[0m\u001b[0;34m[\u001b[0m\u001b[0mtok_idx\u001b[0m\u001b[0;34m]\u001b[0m\u001b[0;34m\u001b[0m\u001b[0m\n",
      "\u001b[0m\u001b[0;32m      8 \u001b[0;31m        \u001b[0moutput\u001b[0m \u001b[0;34m+=\u001b[0m \u001b[0mword\u001b[0m\u001b[0;34m\u001b[0m\u001b[0m\n",
      "\u001b[0m\n",
      "ipdb> tok_arr\n",
      "array([], shape=(0, 2), dtype=int64)\n",
      "ipdb> output\n",
      "\"select *'\"\n",
      "ipdb> s\n"
     ]
    }
   ],
   "source": [
    "%debug"
   ]
  },
  {
   "cell_type": "code",
   "execution_count": 262,
   "metadata": {
    "scrolled": false
   },
   "outputs": [
    {
     "ename": "RuntimeError",
     "evalue": "the given numpy array has zero-sized dimensions. Zero-sized dimensions are not supported in PyTorch",
     "output_type": "error",
     "traceback": [
      "\u001b[0;31m---------------------------------------------------------------------------\u001b[0m",
      "\u001b[0;31mRuntimeError\u001b[0m                              Traceback (most recent call last)",
      "\u001b[0;32m<ipython-input-262-5083c3c80205>\u001b[0m in \u001b[0;36m<module>\u001b[0;34m()\u001b[0m\n\u001b[0;32m----> 1\u001b[0;31m \u001b[0mtok_translate\u001b[0m\u001b[0;34m(\u001b[0m\u001b[0;34m\"select *\"\u001b[0m\u001b[0;34m,\u001b[0m \u001b[0;36m5\u001b[0m\u001b[0;34m)\u001b[0m\u001b[0;34m\u001b[0m\u001b[0m\n\u001b[0m",
      "\u001b[0;32m<ipython-input-261-a96d818c215b>\u001b[0m in \u001b[0;36mtok_translate\u001b[0;34m(inp, n)\u001b[0m\n\u001b[1;32m      4\u001b[0m     \u001b[0moutput\u001b[0m \u001b[0;34m=\u001b[0m \u001b[0minp\u001b[0m\u001b[0;34m\u001b[0m\u001b[0m\n\u001b[1;32m      5\u001b[0m     \u001b[0;32mfor\u001b[0m \u001b[0mi\u001b[0m \u001b[0;32min\u001b[0m \u001b[0mrange\u001b[0m\u001b[0;34m(\u001b[0m\u001b[0mn\u001b[0m\u001b[0;34m)\u001b[0m\u001b[0;34m:\u001b[0m\u001b[0;34m\u001b[0m\u001b[0m\n\u001b[0;32m----> 6\u001b[0;31m         \u001b[0mtok_idx\u001b[0m \u001b[0;34m=\u001b[0m \u001b[0mget_next\u001b[0m\u001b[0;34m(\u001b[0m\u001b[0mtok_arr\u001b[0m\u001b[0;34m)\u001b[0m\u001b[0;34m\u001b[0m\u001b[0m\n\u001b[0m\u001b[1;32m      7\u001b[0m         \u001b[0mword\u001b[0m \u001b[0;34m=\u001b[0m \u001b[0mitos\u001b[0m\u001b[0;34m[\u001b[0m\u001b[0mtok_idx\u001b[0m\u001b[0;34m]\u001b[0m\u001b[0;34m\u001b[0m\u001b[0m\n\u001b[1;32m      8\u001b[0m         \u001b[0moutput\u001b[0m \u001b[0;34m+=\u001b[0m \u001b[0mword\u001b[0m\u001b[0;34m\u001b[0m\u001b[0m\n",
      "\u001b[0;32m<ipython-input-261-a96d818c215b>\u001b[0m in \u001b[0;36mget_next\u001b[0;34m(token)\u001b[0m\n\u001b[1;32m     10\u001b[0m     \u001b[0;32mreturn\u001b[0m \u001b[0mword\u001b[0m\u001b[0;34m\u001b[0m\u001b[0m\n\u001b[1;32m     11\u001b[0m \u001b[0;32mdef\u001b[0m \u001b[0mget_next\u001b[0m\u001b[0;34m(\u001b[0m\u001b[0mtoken\u001b[0m\u001b[0;34m)\u001b[0m\u001b[0;34m:\u001b[0m\u001b[0;34m\u001b[0m\u001b[0m\n\u001b[0;32m---> 12\u001b[0;31m     \u001b[0mlearner\u001b[0m\u001b[0;34m.\u001b[0m\u001b[0mmodel\u001b[0m\u001b[0;34m(\u001b[0m\u001b[0mV\u001b[0m\u001b[0;34m(\u001b[0m\u001b[0mtoken\u001b[0m\u001b[0;34m)\u001b[0m\u001b[0;34m)\u001b[0m\u001b[0;34m\u001b[0m\u001b[0m\n\u001b[0m\u001b[1;32m     13\u001b[0m     \u001b[0;32mreturn\u001b[0m \u001b[0mto_np\u001b[0m\u001b[0;34m(\u001b[0m\u001b[0mtorch\u001b[0m\u001b[0;34m.\u001b[0m\u001b[0mmultinomial\u001b[0m\u001b[0;34m(\u001b[0m\u001b[0mprobs\u001b[0m\u001b[0;34m[\u001b[0m\u001b[0;36m0\u001b[0m\u001b[0;34m]\u001b[0m\u001b[0;34m[\u001b[0m\u001b[0;34m-\u001b[0m\u001b[0;36m1\u001b[0m\u001b[0;34m]\u001b[0m\u001b[0;34m.\u001b[0m\u001b[0mexp\u001b[0m\u001b[0;34m(\u001b[0m\u001b[0;34m)\u001b[0m\u001b[0;34m,\u001b[0m \u001b[0;36m1\u001b[0m\u001b[0;34m)\u001b[0m\u001b[0;34m)\u001b[0m\u001b[0;34m[\u001b[0m\u001b[0;36m0\u001b[0m\u001b[0;34m]\u001b[0m\u001b[0;34m\u001b[0m\u001b[0m\n",
      "\u001b[0;32m~/fastaip1v2/fastai/courses/dl2/fastai/core.py\u001b[0m in \u001b[0;36mV\u001b[0;34m(x, requires_grad, volatile)\u001b[0m\n\u001b[1;32m     31\u001b[0m \u001b[0;32mdef\u001b[0m \u001b[0mV\u001b[0m\u001b[0;34m(\u001b[0m\u001b[0mx\u001b[0m\u001b[0;34m,\u001b[0m \u001b[0mrequires_grad\u001b[0m\u001b[0;34m=\u001b[0m\u001b[0;32mFalse\u001b[0m\u001b[0;34m,\u001b[0m \u001b[0mvolatile\u001b[0m\u001b[0;34m=\u001b[0m\u001b[0;32mFalse\u001b[0m\u001b[0;34m)\u001b[0m\u001b[0;34m:\u001b[0m\u001b[0;34m\u001b[0m\u001b[0m\n\u001b[1;32m     32\u001b[0m     return [V_(o, requires_grad=requires_grad, volatile=volatile)\n\u001b[0;32m---> 33\u001b[0;31m             for o in x] if isinstance(x,(list,tuple)) else V_(x, requires_grad=requires_grad, volatile=volatile)\n\u001b[0m\u001b[1;32m     34\u001b[0m \u001b[0;34m\u001b[0m\u001b[0m\n\u001b[1;32m     35\u001b[0m \u001b[0;32mdef\u001b[0m \u001b[0mVV_\u001b[0m\u001b[0;34m(\u001b[0m\u001b[0mx\u001b[0m\u001b[0;34m)\u001b[0m\u001b[0;34m:\u001b[0m \u001b[0;32mreturn\u001b[0m \u001b[0mcreate_variable\u001b[0m\u001b[0;34m(\u001b[0m\u001b[0mx\u001b[0m\u001b[0;34m,\u001b[0m \u001b[0;32mTrue\u001b[0m\u001b[0;34m)\u001b[0m\u001b[0;34m\u001b[0m\u001b[0m\n",
      "\u001b[0;32m~/fastaip1v2/fastai/courses/dl2/fastai/core.py\u001b[0m in \u001b[0;36mV_\u001b[0;34m(x, requires_grad, volatile)\u001b[0m\n\u001b[1;32m     28\u001b[0m \u001b[0;34m\u001b[0m\u001b[0m\n\u001b[1;32m     29\u001b[0m \u001b[0;32mdef\u001b[0m \u001b[0mV_\u001b[0m\u001b[0;34m(\u001b[0m\u001b[0mx\u001b[0m\u001b[0;34m,\u001b[0m \u001b[0mrequires_grad\u001b[0m\u001b[0;34m=\u001b[0m\u001b[0;32mFalse\u001b[0m\u001b[0;34m,\u001b[0m \u001b[0mvolatile\u001b[0m\u001b[0;34m=\u001b[0m\u001b[0;32mFalse\u001b[0m\u001b[0;34m)\u001b[0m\u001b[0;34m:\u001b[0m\u001b[0;34m\u001b[0m\u001b[0m\n\u001b[0;32m---> 30\u001b[0;31m     \u001b[0;32mreturn\u001b[0m \u001b[0mcreate_variable\u001b[0m\u001b[0;34m(\u001b[0m\u001b[0mx\u001b[0m\u001b[0;34m,\u001b[0m \u001b[0mvolatile\u001b[0m\u001b[0;34m=\u001b[0m\u001b[0mvolatile\u001b[0m\u001b[0;34m,\u001b[0m \u001b[0mrequires_grad\u001b[0m\u001b[0;34m=\u001b[0m\u001b[0mrequires_grad\u001b[0m\u001b[0;34m)\u001b[0m\u001b[0;34m\u001b[0m\u001b[0m\n\u001b[0m\u001b[1;32m     31\u001b[0m \u001b[0;32mdef\u001b[0m \u001b[0mV\u001b[0m\u001b[0;34m(\u001b[0m\u001b[0mx\u001b[0m\u001b[0;34m,\u001b[0m \u001b[0mrequires_grad\u001b[0m\u001b[0;34m=\u001b[0m\u001b[0;32mFalse\u001b[0m\u001b[0;34m,\u001b[0m \u001b[0mvolatile\u001b[0m\u001b[0;34m=\u001b[0m\u001b[0;32mFalse\u001b[0m\u001b[0;34m)\u001b[0m\u001b[0;34m:\u001b[0m\u001b[0;34m\u001b[0m\u001b[0m\n\u001b[1;32m     32\u001b[0m     return [V_(o, requires_grad=requires_grad, volatile=volatile)\n",
      "\u001b[0;32m~/fastaip1v2/fastai/courses/dl2/fastai/core.py\u001b[0m in \u001b[0;36mcreate_variable\u001b[0;34m(x, volatile, requires_grad)\u001b[0m\n\u001b[1;32m     24\u001b[0m \u001b[0;32mdef\u001b[0m \u001b[0mcreate_variable\u001b[0m\u001b[0;34m(\u001b[0m\u001b[0mx\u001b[0m\u001b[0;34m,\u001b[0m \u001b[0mvolatile\u001b[0m\u001b[0;34m,\u001b[0m \u001b[0mrequires_grad\u001b[0m\u001b[0;34m=\u001b[0m\u001b[0;32mFalse\u001b[0m\u001b[0;34m)\u001b[0m\u001b[0;34m:\u001b[0m\u001b[0;34m\u001b[0m\u001b[0m\n\u001b[1;32m     25\u001b[0m     \u001b[0;32mif\u001b[0m \u001b[0;32mnot\u001b[0m \u001b[0misinstance\u001b[0m\u001b[0;34m(\u001b[0m\u001b[0mx\u001b[0m\u001b[0;34m,\u001b[0m \u001b[0mVariable\u001b[0m\u001b[0;34m)\u001b[0m\u001b[0;34m:\u001b[0m\u001b[0;34m\u001b[0m\u001b[0m\n\u001b[0;32m---> 26\u001b[0;31m         \u001b[0mx\u001b[0m \u001b[0;34m=\u001b[0m \u001b[0mVariable\u001b[0m\u001b[0;34m(\u001b[0m\u001b[0mT\u001b[0m\u001b[0;34m(\u001b[0m\u001b[0mx\u001b[0m\u001b[0;34m)\u001b[0m\u001b[0;34m,\u001b[0m \u001b[0mvolatile\u001b[0m\u001b[0;34m=\u001b[0m\u001b[0mvolatile\u001b[0m\u001b[0;34m,\u001b[0m \u001b[0mrequires_grad\u001b[0m\u001b[0;34m=\u001b[0m\u001b[0mrequires_grad\u001b[0m\u001b[0;34m)\u001b[0m\u001b[0;34m\u001b[0m\u001b[0m\n\u001b[0m\u001b[1;32m     27\u001b[0m     \u001b[0;32mreturn\u001b[0m \u001b[0mx\u001b[0m\u001b[0;34m\u001b[0m\u001b[0m\n\u001b[1;32m     28\u001b[0m \u001b[0;34m\u001b[0m\u001b[0m\n",
      "\u001b[0;32m~/fastaip1v2/fastai/courses/dl2/fastai/core.py\u001b[0m in \u001b[0;36mT\u001b[0;34m(a)\u001b[0m\n\u001b[1;32m     16\u001b[0m         \u001b[0ma\u001b[0m \u001b[0;34m=\u001b[0m \u001b[0mnp\u001b[0m\u001b[0;34m.\u001b[0m\u001b[0marray\u001b[0m\u001b[0;34m(\u001b[0m\u001b[0mnp\u001b[0m\u001b[0;34m.\u001b[0m\u001b[0mascontiguousarray\u001b[0m\u001b[0;34m(\u001b[0m\u001b[0ma\u001b[0m\u001b[0;34m)\u001b[0m\u001b[0;34m)\u001b[0m\u001b[0;34m\u001b[0m\u001b[0m\n\u001b[1;32m     17\u001b[0m         \u001b[0;32mif\u001b[0m \u001b[0ma\u001b[0m\u001b[0;34m.\u001b[0m\u001b[0mdtype\u001b[0m \u001b[0;32min\u001b[0m \u001b[0;34m(\u001b[0m\u001b[0mnp\u001b[0m\u001b[0;34m.\u001b[0m\u001b[0mint8\u001b[0m\u001b[0;34m,\u001b[0m \u001b[0mnp\u001b[0m\u001b[0;34m.\u001b[0m\u001b[0mint16\u001b[0m\u001b[0;34m,\u001b[0m \u001b[0mnp\u001b[0m\u001b[0;34m.\u001b[0m\u001b[0mint32\u001b[0m\u001b[0;34m,\u001b[0m \u001b[0mnp\u001b[0m\u001b[0;34m.\u001b[0m\u001b[0mint64\u001b[0m\u001b[0;34m)\u001b[0m\u001b[0;34m:\u001b[0m\u001b[0;34m\u001b[0m\u001b[0m\n\u001b[0;32m---> 18\u001b[0;31m             \u001b[0mres\u001b[0m \u001b[0;34m=\u001b[0m \u001b[0mtorch\u001b[0m\u001b[0;34m.\u001b[0m\u001b[0mLongTensor\u001b[0m\u001b[0;34m(\u001b[0m\u001b[0ma\u001b[0m\u001b[0;34m.\u001b[0m\u001b[0mastype\u001b[0m\u001b[0;34m(\u001b[0m\u001b[0mnp\u001b[0m\u001b[0;34m.\u001b[0m\u001b[0mint64\u001b[0m\u001b[0;34m)\u001b[0m\u001b[0;34m)\u001b[0m\u001b[0;34m\u001b[0m\u001b[0m\n\u001b[0m\u001b[1;32m     19\u001b[0m         \u001b[0;32melif\u001b[0m \u001b[0ma\u001b[0m\u001b[0;34m.\u001b[0m\u001b[0mdtype\u001b[0m \u001b[0;32min\u001b[0m \u001b[0;34m(\u001b[0m\u001b[0mnp\u001b[0m\u001b[0;34m.\u001b[0m\u001b[0mfloat32\u001b[0m\u001b[0;34m,\u001b[0m \u001b[0mnp\u001b[0m\u001b[0;34m.\u001b[0m\u001b[0mfloat64\u001b[0m\u001b[0;34m)\u001b[0m\u001b[0;34m:\u001b[0m\u001b[0;34m\u001b[0m\u001b[0m\n\u001b[1;32m     20\u001b[0m             \u001b[0mres\u001b[0m \u001b[0;34m=\u001b[0m \u001b[0mtorch\u001b[0m\u001b[0;34m.\u001b[0m\u001b[0mFloatTensor\u001b[0m\u001b[0;34m(\u001b[0m\u001b[0ma\u001b[0m\u001b[0;34m.\u001b[0m\u001b[0mastype\u001b[0m\u001b[0;34m(\u001b[0m\u001b[0mnp\u001b[0m\u001b[0;34m.\u001b[0m\u001b[0mfloat32\u001b[0m\u001b[0;34m)\u001b[0m\u001b[0;34m)\u001b[0m\u001b[0;34m\u001b[0m\u001b[0m\n",
      "\u001b[0;31mRuntimeError\u001b[0m: the given numpy array has zero-sized dimensions. Zero-sized dimensions are not supported in PyTorch"
     ]
    }
   ],
   "source": [
    "tok_translate(\"\"\"\"\"select *\", 5)"
   ]
  },
  {
   "cell_type": "code",
   "execution_count": 249,
   "metadata": {},
   "outputs": [
    {
     "data": {
      "text/plain": [
       "array([[20, 21, 12, 11, 27]])"
      ]
     },
     "execution_count": 249,
     "metadata": {},
     "output_type": "execute_result"
    }
   ],
   "source": [
    "t"
   ]
  },
  {
   "cell_type": "code",
   "execution_count": 178,
   "metadata": {},
   "outputs": [],
   "source": [
    "predictions = learner.predict_array(t)"
   ]
  },
  {
   "cell_type": "code",
   "execution_count": 206,
   "metadata": {},
   "outputs": [],
   "source": [
    "probs = learner.model(V(t))"
   ]
  },
  {
   "cell_type": "code",
   "execution_count": 245,
   "metadata": {},
   "outputs": [
    {
     "name": "stdout",
     "output_type": "stream",
     "text": [
      ")\n",
      "\n",
      " \n",
      " \n",
      "1\n",
      "\n",
      " \n",
      "--\n",
      "this\n",
      "rank\n",
      ",\n",
      "\n",
      " \n",
      "from\n"
     ]
    }
   ],
   "source": [
    "for i in range(10):\n",
    "    print(itos[to_np(torch.multinomial(probs[0][-1].exp(), 1))[0]])"
   ]
  },
  {
   "cell_type": "code",
   "execution_count": 222,
   "metadata": {},
   "outputs": [
    {
     "data": {
      "text/plain": [
       "Variable containing:\n",
       " 685\n",
       "[torch.cuda.LongTensor of size 1 (GPU 0)]"
      ]
     },
     "execution_count": 222,
     "metadata": {},
     "output_type": "execute_result"
    }
   ],
   "source": [
    "torch.multinomial(probs[-1][4])"
   ]
  },
  {
   "cell_type": "code",
   "execution_count": 207,
   "metadata": {},
   "outputs": [
    {
     "data": {
      "text/plain": [
       "'\\n '"
      ]
     },
     "execution_count": 207,
     "metadata": {},
     "output_type": "execute_result"
    }
   ],
   "source": [
    "itos[to_np(probs[0][4]).argmax()]"
   ]
  },
  {
   "cell_type": "code",
   "execution_count": 204,
   "metadata": {},
   "outputs": [
    {
     "data": {
      "text/plain": [
       "'\\n '"
      ]
     },
     "execution_count": 204,
     "metadata": {},
     "output_type": "execute_result"
    }
   ],
   "source": [
    "itos[to_np(probs[0][3]).argmax()]"
   ]
  },
  {
   "cell_type": "code",
   "execution_count": 180,
   "metadata": {},
   "outputs": [
    {
     "ename": "AttributeError",
     "evalue": "'list' object has no attribute 'max'",
     "output_type": "error",
     "traceback": [
      "\u001b[0;31m---------------------------------------------------------------------------\u001b[0m",
      "\u001b[0;31mAttributeError\u001b[0m                            Traceback (most recent call last)",
      "\u001b[0;32m<ipython-input-180-0c2ec0449ee7>\u001b[0m in \u001b[0;36m<module>\u001b[0;34m()\u001b[0m\n\u001b[0;32m----> 1\u001b[0;31m \u001b[0mpredictions\u001b[0m\u001b[0;34m.\u001b[0m\u001b[0mmax\u001b[0m\u001b[0;34m(\u001b[0m\u001b[0;36m1\u001b[0m\u001b[0;34m)\u001b[0m\u001b[0;34m[\u001b[0m\u001b[0;36m1\u001b[0m\u001b[0;34m]\u001b[0m\u001b[0;34m\u001b[0m\u001b[0m\n\u001b[0m",
      "\u001b[0;31mAttributeError\u001b[0m: 'list' object has no attribute 'max'"
     ]
    }
   ],
   "source": [
    "predictions.max(1)[1]"
   ]
  },
  {
   "cell_type": "code",
   "execution_count": 121,
   "metadata": {},
   "outputs": [
    {
     "data": {
      "text/plain": [
       "3"
      ]
     },
     "execution_count": 121,
     "metadata": {},
     "output_type": "execute_result"
    }
   ],
   "source": [
    "len(predictions[1])"
   ]
  },
  {
   "cell_type": "code",
   "execution_count": 118,
   "metadata": {},
   "outputs": [
    {
     "data": {
      "text/plain": [
       "(1, 2, 1150)"
      ]
     },
     "execution_count": 118,
     "metadata": {},
     "output_type": "execute_result"
    }
   ],
   "source": [
    "predictions[1][0].shape"
   ]
  },
  {
   "cell_type": "code",
   "execution_count": 107,
   "metadata": {
    "scrolled": true
   },
   "outputs": [
    {
     "data": {
      "text/plain": [
       "(2, 15120)"
      ]
     },
     "execution_count": 107,
     "metadata": {},
     "output_type": "execute_result"
    }
   ],
   "source": [
    "predictions[0].shape"
   ]
  },
  {
   "cell_type": "code",
   "execution_count": 102,
   "metadata": {},
   "outputs": [
    {
     "data": {
      "text/plain": [
       "'bronze'"
      ]
     },
     "execution_count": 102,
     "metadata": {},
     "output_type": "execute_result"
    }
   ],
   "source": [
    "itos[predictions[1][0][0][0].argmax()]"
   ]
  },
  {
   "cell_type": "code",
   "execution_count": 94,
   "metadata": {},
   "outputs": [],
   "source": [
    "first_prediction = predictions[0][0]\n",
    "second_prediction = predictions[0][1]"
   ]
  },
  {
   "cell_type": "code",
   "execution_count": 92,
   "metadata": {},
   "outputs": [
    {
     "data": {
      "text/plain": [
       "'tagname'"
      ]
     },
     "execution_count": 92,
     "metadata": {},
     "output_type": "execute_result"
    }
   ],
   "source": [
    "itos[70]"
   ]
  },
  {
   "cell_type": "code",
   "execution_count": 93,
   "metadata": {},
   "outputs": [
    {
     "data": {
      "text/plain": [
       "'tagname'"
      ]
     },
     "execution_count": 93,
     "metadata": {},
     "output_type": "execute_result"
    }
   ],
   "source": [
    "itos[first_prediction.argmax()]"
   ]
  },
  {
   "cell_type": "code",
   "execution_count": 95,
   "metadata": {},
   "outputs": [
    {
     "data": {
      "text/plain": [
       "'\\n'"
      ]
     },
     "execution_count": 95,
     "metadata": {},
     "output_type": "execute_result"
    }
   ],
   "source": [
    "itos[second_prediction.argmax()]"
   ]
  },
  {
   "cell_type": "code",
   "execution_count": 74,
   "metadata": {},
   "outputs": [
    {
     "ename": "ValueError",
     "evalue": "could not broadcast input array from shape (2,1150) into shape (1,2)",
     "output_type": "error",
     "traceback": [
      "\u001b[0;31m---------------------------------------------------------------------------\u001b[0m",
      "\u001b[0;31mAttributeError\u001b[0m                            Traceback (most recent call last)",
      "\u001b[0;32m~/anaconda3/envs/fastai/lib/python3.6/site-packages/numpy/core/fromnumeric.py\u001b[0m in \u001b[0;36m_wrapfunc\u001b[0;34m(obj, method, *args, **kwds)\u001b[0m\n\u001b[1;32m     56\u001b[0m     \u001b[0;32mtry\u001b[0m\u001b[0;34m:\u001b[0m\u001b[0;34m\u001b[0m\u001b[0m\n\u001b[0;32m---> 57\u001b[0;31m         \u001b[0;32mreturn\u001b[0m \u001b[0mgetattr\u001b[0m\u001b[0;34m(\u001b[0m\u001b[0mobj\u001b[0m\u001b[0;34m,\u001b[0m \u001b[0mmethod\u001b[0m\u001b[0;34m)\u001b[0m\u001b[0;34m(\u001b[0m\u001b[0;34m*\u001b[0m\u001b[0margs\u001b[0m\u001b[0;34m,\u001b[0m \u001b[0;34m**\u001b[0m\u001b[0mkwds\u001b[0m\u001b[0;34m)\u001b[0m\u001b[0;34m\u001b[0m\u001b[0m\n\u001b[0m\u001b[1;32m     58\u001b[0m \u001b[0;34m\u001b[0m\u001b[0m\n",
      "\u001b[0;31mAttributeError\u001b[0m: 'list' object has no attribute 'argmax'",
      "\nDuring handling of the above exception, another exception occurred:\n",
      "\u001b[0;31mValueError\u001b[0m                                Traceback (most recent call last)",
      "\u001b[0;32m<ipython-input-74-869743e40f93>\u001b[0m in \u001b[0;36m<module>\u001b[0;34m()\u001b[0m\n\u001b[0;32m----> 1\u001b[0;31m \u001b[0mnp\u001b[0m\u001b[0;34m.\u001b[0m\u001b[0margmax\u001b[0m\u001b[0;34m(\u001b[0m\u001b[0mpredictions\u001b[0m\u001b[0;34m)\u001b[0m\u001b[0;34m\u001b[0m\u001b[0m\n\u001b[0m",
      "\u001b[0;32m~/anaconda3/envs/fastai/lib/python3.6/site-packages/numpy/core/fromnumeric.py\u001b[0m in \u001b[0;36margmax\u001b[0;34m(a, axis, out)\u001b[0m\n\u001b[1;32m    961\u001b[0m \u001b[0;34m\u001b[0m\u001b[0m\n\u001b[1;32m    962\u001b[0m     \"\"\"\n\u001b[0;32m--> 963\u001b[0;31m     \u001b[0;32mreturn\u001b[0m \u001b[0m_wrapfunc\u001b[0m\u001b[0;34m(\u001b[0m\u001b[0ma\u001b[0m\u001b[0;34m,\u001b[0m \u001b[0;34m'argmax'\u001b[0m\u001b[0;34m,\u001b[0m \u001b[0maxis\u001b[0m\u001b[0;34m=\u001b[0m\u001b[0maxis\u001b[0m\u001b[0;34m,\u001b[0m \u001b[0mout\u001b[0m\u001b[0;34m=\u001b[0m\u001b[0mout\u001b[0m\u001b[0;34m)\u001b[0m\u001b[0;34m\u001b[0m\u001b[0m\n\u001b[0m\u001b[1;32m    964\u001b[0m \u001b[0;34m\u001b[0m\u001b[0m\n\u001b[1;32m    965\u001b[0m \u001b[0;34m\u001b[0m\u001b[0m\n",
      "\u001b[0;32m~/anaconda3/envs/fastai/lib/python3.6/site-packages/numpy/core/fromnumeric.py\u001b[0m in \u001b[0;36m_wrapfunc\u001b[0;34m(obj, method, *args, **kwds)\u001b[0m\n\u001b[1;32m     65\u001b[0m     \u001b[0;31m# a downstream library like 'pandas'.\u001b[0m\u001b[0;34m\u001b[0m\u001b[0;34m\u001b[0m\u001b[0m\n\u001b[1;32m     66\u001b[0m     \u001b[0;32mexcept\u001b[0m \u001b[0;34m(\u001b[0m\u001b[0mAttributeError\u001b[0m\u001b[0;34m,\u001b[0m \u001b[0mTypeError\u001b[0m\u001b[0;34m)\u001b[0m\u001b[0;34m:\u001b[0m\u001b[0;34m\u001b[0m\u001b[0m\n\u001b[0;32m---> 67\u001b[0;31m         \u001b[0;32mreturn\u001b[0m \u001b[0m_wrapit\u001b[0m\u001b[0;34m(\u001b[0m\u001b[0mobj\u001b[0m\u001b[0;34m,\u001b[0m \u001b[0mmethod\u001b[0m\u001b[0;34m,\u001b[0m \u001b[0;34m*\u001b[0m\u001b[0margs\u001b[0m\u001b[0;34m,\u001b[0m \u001b[0;34m**\u001b[0m\u001b[0mkwds\u001b[0m\u001b[0;34m)\u001b[0m\u001b[0;34m\u001b[0m\u001b[0m\n\u001b[0m\u001b[1;32m     68\u001b[0m \u001b[0;34m\u001b[0m\u001b[0m\n\u001b[1;32m     69\u001b[0m \u001b[0;34m\u001b[0m\u001b[0m\n",
      "\u001b[0;32m~/anaconda3/envs/fastai/lib/python3.6/site-packages/numpy/core/fromnumeric.py\u001b[0m in \u001b[0;36m_wrapit\u001b[0;34m(obj, method, *args, **kwds)\u001b[0m\n\u001b[1;32m     45\u001b[0m     \u001b[0;32mexcept\u001b[0m \u001b[0mAttributeError\u001b[0m\u001b[0;34m:\u001b[0m\u001b[0;34m\u001b[0m\u001b[0m\n\u001b[1;32m     46\u001b[0m         \u001b[0mwrap\u001b[0m \u001b[0;34m=\u001b[0m \u001b[0;32mNone\u001b[0m\u001b[0;34m\u001b[0m\u001b[0m\n\u001b[0;32m---> 47\u001b[0;31m     \u001b[0mresult\u001b[0m \u001b[0;34m=\u001b[0m \u001b[0mgetattr\u001b[0m\u001b[0;34m(\u001b[0m\u001b[0masarray\u001b[0m\u001b[0;34m(\u001b[0m\u001b[0mobj\u001b[0m\u001b[0;34m)\u001b[0m\u001b[0;34m,\u001b[0m \u001b[0mmethod\u001b[0m\u001b[0;34m)\u001b[0m\u001b[0;34m(\u001b[0m\u001b[0;34m*\u001b[0m\u001b[0margs\u001b[0m\u001b[0;34m,\u001b[0m \u001b[0;34m**\u001b[0m\u001b[0mkwds\u001b[0m\u001b[0;34m)\u001b[0m\u001b[0;34m\u001b[0m\u001b[0m\n\u001b[0m\u001b[1;32m     48\u001b[0m     \u001b[0;32mif\u001b[0m \u001b[0mwrap\u001b[0m\u001b[0;34m:\u001b[0m\u001b[0;34m\u001b[0m\u001b[0m\n\u001b[1;32m     49\u001b[0m         \u001b[0;32mif\u001b[0m \u001b[0;32mnot\u001b[0m \u001b[0misinstance\u001b[0m\u001b[0;34m(\u001b[0m\u001b[0mresult\u001b[0m\u001b[0;34m,\u001b[0m \u001b[0mmu\u001b[0m\u001b[0;34m.\u001b[0m\u001b[0mndarray\u001b[0m\u001b[0;34m)\u001b[0m\u001b[0;34m:\u001b[0m\u001b[0;34m\u001b[0m\u001b[0m\n",
      "\u001b[0;31mValueError\u001b[0m: could not broadcast input array from shape (2,1150) into shape (1,2)"
     ]
    }
   ],
   "source": [
    "np.argmax(predictions)"
   ]
  }
 ],
 "metadata": {
  "_draft": {
   "nbviewer_url": "https://gist.github.com/b6bca91e9fbd37bf43c44d7c13c68e6f"
  },
  "gist": {
   "data": {
    "description": "tmp_askdb.ipynb",
    "public": false
   },
   "id": "b6bca91e9fbd37bf43c44d7c13c68e6f"
  },
  "kernelspec": {
   "display_name": "Python 3",
   "language": "python",
   "name": "python3"
  },
  "language_info": {
   "codemirror_mode": {
    "name": "ipython",
    "version": 3
   },
   "file_extension": ".py",
   "mimetype": "text/x-python",
   "name": "python",
   "nbconvert_exporter": "python",
   "pygments_lexer": "ipython3",
   "version": "3.6.3"
  }
 },
 "nbformat": 4,
 "nbformat_minor": 2
}
