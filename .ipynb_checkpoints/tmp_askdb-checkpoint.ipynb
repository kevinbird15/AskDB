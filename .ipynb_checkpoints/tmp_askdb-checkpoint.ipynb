{
 "cells": [
  {
   "cell_type": "code",
   "execution_count": 1,
   "metadata": {},
   "outputs": [
    {
     "data": {
      "text/plain": [
       "<torch.cuda.device at 0x7f5cf8a585f8>"
      ]
     },
     "execution_count": 1,
     "metadata": {},
     "output_type": "execute_result"
    }
   ],
   "source": [
    "import fastai\n",
    "from fastai import learner\n",
    "from fastai import dataset\n",
    "from fastai import model\n",
    "from fastai.model import resnet34\n",
    "from pathlib import Path\n",
    "from fastai.text import *\n",
    "\n",
    "import pandas as pd\n",
    "import numpy as np\n",
    "import spacy\n",
    "import json\n",
    "import re\n",
    "import html\n",
    "\n",
    "torch.cuda.device(0)"
   ]
  },
  {
   "cell_type": "code",
   "execution_count": 2,
   "metadata": {},
   "outputs": [],
   "source": [
    "spac_tok = spacy.load(\"en\")"
   ]
  },
  {
   "cell_type": "code",
   "execution_count": 3,
   "metadata": {},
   "outputs": [
    {
     "data": {
      "text/plain": [
       "0"
      ]
     },
     "execution_count": 3,
     "metadata": {},
     "output_type": "execute_result"
    }
   ],
   "source": [
    "torch.cuda.current_device()"
   ]
  },
  {
   "cell_type": "code",
   "execution_count": 4,
   "metadata": {},
   "outputs": [],
   "source": [
    "PATH = Path(\"data/nlidb-datasets/\")"
   ]
  },
  {
   "cell_type": "code",
   "execution_count": 5,
   "metadata": {},
   "outputs": [],
   "source": [
    "sql_train = json.load((PATH/\"SENLIDB\"/\"train.json\").open())\n",
    "sql_test = json.load((PATH/\"SENLIDB\"/\"test.json\").open())"
   ]
  },
  {
   "cell_type": "code",
   "execution_count": 6,
   "metadata": {},
   "outputs": [
    {
     "data": {
      "text/plain": [
       "{'annotations': [{'annotation': 'List the top 50000 posts that have been viewed more than 10000 times ordered by the number of views descending',\n",
       "   'annotator_id': 1},\n",
       "  {'annotation': 'Get the most viewed 50000 posts that have the number of views higher than 10000, ordered by the count of views',\n",
       "   'annotator_id': 1},\n",
       "  {'annotation': 'show top 50000 posts which have more than 10000 views',\n",
       "   'annotator_id': 2},\n",
       "  {'annotation': 'select top 50000 posts that have over 10000 ordered descending',\n",
       "   'annotator_id': 2}],\n",
       " 'comments': [],\n",
       " 'description': '',\n",
       " 'id': '641175',\n",
       " 'sql': 'select top 50000 * from posts where posts.ViewCount > 10000 ORDER BY posts.ViewCount desc',\n",
       " 'sql_plain': 'select top 50000 * from posts where posts.ViewCount > 10000 ORDER BY posts.ViewCount desc',\n",
       " 'title': '10000',\n",
       " 'url': 'http://data.stackexchange.com/stackoverflow/revision/641175/800950/10000'}"
      ]
     },
     "execution_count": 6,
     "metadata": {},
     "output_type": "execute_result"
    }
   ],
   "source": [
    "sql_test[0]"
   ]
  },
  {
   "cell_type": "code",
   "execution_count": 7,
   "metadata": {},
   "outputs": [],
   "source": [
    "def DataFrameCreate(jsondata):\n",
    "    sql_plain = []\n",
    "    title = []\n",
    "    for i,o in enumerate(jsondata):\n",
    "        sql_plain.append(o[\"sql_plain\"])\n",
    "        title.append(o[\"title\"])\n",
    "    df = pd.DataFrame({\"title\":title, \"sql_plain\":sql_plain}, columns={\"title\", \"sql_plain\"})\n",
    "    return df"
   ]
  },
  {
   "cell_type": "code",
   "execution_count": 9,
   "metadata": {},
   "outputs": [],
   "source": [
    "df_trn = DataFrameCreate(sql_train)\n",
    "df_test= DataFrameCreate(sql_test)"
   ]
  },
  {
   "cell_type": "code",
   "execution_count": 10,
   "metadata": {
    "scrolled": true
   },
   "outputs": [
    {
     "data": {
      "text/html": [
       "<div>\n",
       "<style scoped>\n",
       "    .dataframe tbody tr th:only-of-type {\n",
       "        vertical-align: middle;\n",
       "    }\n",
       "\n",
       "    .dataframe tbody tr th {\n",
       "        vertical-align: top;\n",
       "    }\n",
       "\n",
       "    .dataframe thead th {\n",
       "        text-align: right;\n",
       "    }\n",
       "</style>\n",
       "<table border=\"1\" class=\"dataframe\">\n",
       "  <thead>\n",
       "    <tr style=\"text-align: right;\">\n",
       "      <th></th>\n",
       "      <th>title</th>\n",
       "      <th>sql_plain</th>\n",
       "    </tr>\n",
       "  </thead>\n",
       "  <tbody>\n",
       "    <tr>\n",
       "      <th>0</th>\n",
       "      <td>Repent 151-160</td>\n",
       "      <td>SELECT \\np.Title,p.score,p.ViewCount,p.AnswerC...</td>\n",
       "    </tr>\n",
       "    <tr>\n",
       "      <th>1</th>\n",
       "      <td>This is test data for my question to make thin...</td>\n",
       "      <td>-- This is test data for my question to make t...</td>\n",
       "    </tr>\n",
       "    <tr>\n",
       "      <th>2</th>\n",
       "      <td>Accept answer</td>\n",
       "      <td>select Id\\nfrom Comments \\nwhere lower(Text) l...</td>\n",
       "    </tr>\n",
       "    <tr>\n",
       "      <th>3</th>\n",
       "      <td>Questions with most views created within 3 mon...</td>\n",
       "      <td>DECLARE @From DATETIME = convert(DATETIME, '##...</td>\n",
       "    </tr>\n",
       "    <tr>\n",
       "      <th>4</th>\n",
       "      <td>Most Prolific Answers</td>\n",
       "      <td>-- Most Prolific Answerers (with score)\\n-- Sh...</td>\n",
       "    </tr>\n",
       "    <tr>\n",
       "      <th>5</th>\n",
       "      <td>Questions with the default image text</td>\n",
       "      <td>SELECT Id AS [Post Link], Tags, Score FROM Pos...</td>\n",
       "    </tr>\n",
       "    <tr>\n",
       "      <th>6</th>\n",
       "      <td>Questions with most delete votes</td>\n",
       "      <td>select top 100 p.Id as [Post Link], max(p.Scor...</td>\n",
       "    </tr>\n",
       "    <tr>\n",
       "      <th>7</th>\n",
       "      <td>Fastest answers</td>\n",
       "      <td>SELECT TOP 100\\n  q.OwnerUserId AS [User Link]...</td>\n",
       "    </tr>\n",
       "    <tr>\n",
       "      <th>8</th>\n",
       "      <td>Bounty distibution</td>\n",
       "      <td>with bounty_questions as (\\n  select max(1.0*a...</td>\n",
       "    </tr>\n",
       "    <tr>\n",
       "      <th>9</th>\n",
       "      <td>Is there a SEDE query to find number of up vot...</td>\n",
       "      <td>select count(*)\\nfrom votes v \\ninner join pos...</td>\n",
       "    </tr>\n",
       "    <tr>\n",
       "      <th>10</th>\n",
       "      <td>User's Post Age</td>\n",
       "      <td>Select ntile(10) over (Order by DateDiff(d, Cr...</td>\n",
       "    </tr>\n",
       "    <tr>\n",
       "      <th>11</th>\n",
       "      <td>Generic Query for Trending Multiple Tags</td>\n",
       "      <td>--Get the Tag IDs that you are interested in f...</td>\n",
       "    </tr>\n",
       "    <tr>\n",
       "      <th>12</th>\n",
       "      <td>User Profile Test</td>\n",
       "      <td>DECLARE @userID numeric = ##UserID##\\n\\nSELECT...</td>\n",
       "    </tr>\n",
       "    <tr>\n",
       "      <th>13</th>\n",
       "      <td>C# Gold bearers from India</td>\n",
       "      <td>WITH data\\n     AS (SELECT Rank() OVER (PARTIT...</td>\n",
       "    </tr>\n",
       "    <tr>\n",
       "      <th>14</th>\n",
       "      <td>find duplicate questions</td>\n",
       "      <td>-- TagName: Filter questions by this tag. Leav...</td>\n",
       "    </tr>\n",
       "    <tr>\n",
       "      <th>15</th>\n",
       "      <td>crate mine questions</td>\n",
       "      <td>select dateadd(month, datediff(month, 0, q.Cre...</td>\n",
       "    </tr>\n",
       "    <tr>\n",
       "      <th>16</th>\n",
       "      <td>Users with highst number of combined Views</td>\n",
       "      <td>-- Users with highst number of combined Views\\...</td>\n",
       "    </tr>\n",
       "    <tr>\n",
       "      <th>17</th>\n",
       "      <td>Users average score.</td>\n",
       "      <td>-- Users sorted by average score.\\n-- Votes pe...</td>\n",
       "    </tr>\n",
       "    <tr>\n",
       "      <th>18</th>\n",
       "      <td>Posts Table</td>\n",
       "      <td>--Create Customer Temp table\\nCREATE TABLE #Cu...</td>\n",
       "    </tr>\n",
       "    <tr>\n",
       "      <th>19</th>\n",
       "      <td>Questions with no accepted answer</td>\n",
       "      <td>-- Enter Query Title\\n-- Enter Query Descripti...</td>\n",
       "    </tr>\n",
       "    <tr>\n",
       "      <th>20</th>\n",
       "      <td>Roads API questions SBT</td>\n",
       "      <td>select i.Id, i.CreationDate, i.Title, i.Tags, ...</td>\n",
       "    </tr>\n",
       "    <tr>\n",
       "      <th>21</th>\n",
       "      <td>Most Posts</td>\n",
       "      <td>SELECT P.Id FROM POSTS AS P, USERS AS U</td>\n",
       "    </tr>\n",
       "    <tr>\n",
       "      <th>22</th>\n",
       "      <td>Lowest Rep/Post</td>\n",
       "      <td>WITH TotalRep\\nAS\\n(\\n  SELECT \\n  P.OwnerUser...</td>\n",
       "    </tr>\n",
       "    <tr>\n",
       "      <th>23</th>\n",
       "      <td>OP edits of a question after closure</td>\n",
       "      <td>select top 10 \\n  p.Id [Post Link]\\nfrom Posts...</td>\n",
       "    </tr>\n",
       "    <tr>\n",
       "      <th>24</th>\n",
       "      <td>Top 100 posts with the most comments</td>\n",
       "      <td>SELECT TOP 20 Posts.Id as [Post Link], Comment...</td>\n",
       "    </tr>\n",
       "    <tr>\n",
       "      <th>25</th>\n",
       "      <td>All-uppercase Stack Overflow questions asked i...</td>\n",
       "      <td>SELECT PostId AS [Post Link],\\n       'http://...</td>\n",
       "    </tr>\n",
       "    <tr>\n",
       "      <th>26</th>\n",
       "      <td>Get User Info (Total answers and Accepted Answ...</td>\n",
       "      <td>-- Get User(s) Info\\n-- Returns the URL with t...</td>\n",
       "    </tr>\n",
       "    <tr>\n",
       "      <th>27</th>\n",
       "      <td>downvotes by user</td>\n",
       "      <td>declare @user_id int = ##UserId:int##\\n\\nSELEC...</td>\n",
       "    </tr>\n",
       "    <tr>\n",
       "      <th>28</th>\n",
       "      <td>My Top N Most Upvoted Comments</td>\n",
       "      <td>SELECT  * FROM Users \\nWHERE (Age = 39 and Loc...</td>\n",
       "    </tr>\n",
       "    <tr>\n",
       "      <th>29</th>\n",
       "      <td>Ezm test foo</td>\n",
       "      <td>select top(100) p.Id, p2.Id, p2.ParentId, p2.*...</td>\n",
       "    </tr>\n",
       "    <tr>\n",
       "      <th>...</th>\n",
       "      <td>...</td>\n",
       "      <td>...</td>\n",
       "    </tr>\n",
       "    <tr>\n",
       "      <th>24564</th>\n",
       "      <td>High-Scoring Questions with Accepted Answers, ...</td>\n",
       "      <td>-- This query uses JOINs to show question scor...</td>\n",
       "    </tr>\n",
       "    <tr>\n",
       "      <th>24565</th>\n",
       "      <td>Proof that there are spaces</td>\n",
       "      <td>SELECT TOP 10 Body\\nFROM   Posts\\nWHERE  Owner...</td>\n",
       "    </tr>\n",
       "    <tr>\n",
       "      <th>24566</th>\n",
       "      <td>Posts (Answers) based on a given tag</td>\n",
       "      <td>select DATENAME(yyyy, p.LastActivityDate) AS Y...</td>\n",
       "    </tr>\n",
       "    <tr>\n",
       "      <th>24567</th>\n",
       "      <td>Percentage of questions with at least one answ...</td>\n",
       "      <td>SELECT\\n  DATEPART(week,CreationDate),\\n  CAST...</td>\n",
       "    </tr>\n",
       "    <tr>\n",
       "      <th>24568</th>\n",
       "      <td>Tag Size and Growth Trends</td>\n",
       "      <td>DECLARE @Last30 datetime = '12/15/2012'\\n\\nSEL...</td>\n",
       "    </tr>\n",
       "    <tr>\n",
       "      <th>24569</th>\n",
       "      <td>Deleted questions by month for specified tag</td>\n",
       "      <td>DECLARE @tagcond nvarchar(25) = concat('%', ##...</td>\n",
       "    </tr>\n",
       "    <tr>\n",
       "      <th>24570</th>\n",
       "      <td>Get answers with the most closed votes</td>\n",
       "      <td>SELECT TOP 10 Posts.Id, ParentId, Count(*) AS ...</td>\n",
       "    </tr>\n",
       "    <tr>\n",
       "      <th>24571</th>\n",
       "      <td>Vocabulary Only Questions 2016</td>\n",
       "      <td>select \\ntitle, \\nid as [Post Link], \\ntags, c...</td>\n",
       "    </tr>\n",
       "    <tr>\n",
       "      <th>24572</th>\n",
       "      <td>How rare are my badges?</td>\n",
       "      <td>SELECT     mine.name AS [Badge Name],\\n       ...</td>\n",
       "    </tr>\n",
       "    <tr>\n",
       "      <th>24573</th>\n",
       "      <td>Get other tags used with a tag</td>\n",
       "      <td>SELECT\\n  t2.tagname AS TagName,\\n  count(*) A...</td>\n",
       "    </tr>\n",
       "    <tr>\n",
       "      <th>24574</th>\n",
       "      <td>SQL</td>\n",
       "      <td>SELECT \\ntuser.Score\\nFROM users us\\nJOIN\\n(SE...</td>\n",
       "    </tr>\n",
       "    <tr>\n",
       "      <th>24575</th>\n",
       "      <td>Most Upvoted Answers</td>\n",
       "      <td>-- Most Upvoted Answers of All Time\\n-- The mo...</td>\n",
       "    </tr>\n",
       "    <tr>\n",
       "      <th>24576</th>\n",
       "      <td>compare tags</td>\n",
       "      <td>select *, count(*) from\\n(\\n  select CAST(\\n  ...</td>\n",
       "    </tr>\n",
       "    <tr>\n",
       "      <th>24577</th>\n",
       "      <td>Duplicate Answers</td>\n",
       "      <td>SELECT body,Id, COUNT(*) AS numOccurences\\nFRO...</td>\n",
       "    </tr>\n",
       "    <tr>\n",
       "      <th>24578</th>\n",
       "      <td>Average answer length per user &gt; 10K rep.</td>\n",
       "      <td>SELECT\\n  u.Id AS [User Link],\\n  Count(*) AS ...</td>\n",
       "    </tr>\n",
       "    <tr>\n",
       "      <th>24579</th>\n",
       "      <td>Accepted Answers by User on given date</td>\n",
       "      <td>-- Accepted Answer Statistics\\n\\nDECLARE @User...</td>\n",
       "    </tr>\n",
       "    <tr>\n",
       "      <th>24580</th>\n",
       "      <td>Popular ruby questions</td>\n",
       "      <td>select posts.* from posts where posts.tags lik...</td>\n",
       "    </tr>\n",
       "    <tr>\n",
       "      <th>24581</th>\n",
       "      <td>Post_java</td>\n",
       "      <td>select top 1 id, postid, [text]\\nfrom PostHist...</td>\n",
       "    </tr>\n",
       "    <tr>\n",
       "      <th>24582</th>\n",
       "      <td>Search user profiles</td>\n",
       "      <td>select\\n  u.Id as [User Link],\\n  u.CreationDa...</td>\n",
       "    </tr>\n",
       "    <tr>\n",
       "      <th>24583</th>\n",
       "      <td>Review Count and Breakdown</td>\n",
       "      <td>SELECT type.Name AS [Review Type],\\n       COU...</td>\n",
       "    </tr>\n",
       "    <tr>\n",
       "      <th>24584</th>\n",
       "      <td>WHERE filtering with times</td>\n",
       "      <td>SELECT * FROM dbo.Users WHERE CONVERT(TIME, Cr...</td>\n",
       "    </tr>\n",
       "    <tr>\n",
       "      <th>24585</th>\n",
       "      <td>Edit-suitable tags</td>\n",
       "      <td>SELECT * FROM Tags\\nWHERE ExcerptPostId IS NUL...</td>\n",
       "    </tr>\n",
       "    <tr>\n",
       "      <th>24586</th>\n",
       "      <td>Answers Given To A Particular User</td>\n",
       "      <td>DECLARE @QtnsUser int = ##QtnsUser##\\nDECLARE ...</td>\n",
       "    </tr>\n",
       "    <tr>\n",
       "      <th>24587</th>\n",
       "      <td>Gaps in Posts Id</td>\n",
       "      <td>select Id+1 as [Id of deleted post], CreationD...</td>\n",
       "    </tr>\n",
       "    <tr>\n",
       "      <th>24588</th>\n",
       "      <td>Get POST History of a POST</td>\n",
       "      <td>SELECT\\n    POSTID As [Post Link],\\n    USERID...</td>\n",
       "    </tr>\n",
       "    <tr>\n",
       "      <th>24589</th>\n",
       "      <td>Metrics - Site - Basic Counts</td>\n",
       "      <td>-- Metrics - Site - Basic Counts\\n-- Total amo...</td>\n",
       "    </tr>\n",
       "    <tr>\n",
       "      <th>24590</th>\n",
       "      <td>ssss</td>\n",
       "      <td>select cast (1 as bit)</td>\n",
       "    </tr>\n",
       "    <tr>\n",
       "      <th>24591</th>\n",
       "      <td>Top Italian users for Laravel tag</td>\n",
       "      <td>SELECT ROW_NUMBER() OVER(ORDER BY tuser.Score ...</td>\n",
       "    </tr>\n",
       "    <tr>\n",
       "      <th>24592</th>\n",
       "      <td>Useless Indians</td>\n",
       "      <td>-- TOP 100 users from Greece\\n-- Lists the top...</td>\n",
       "    </tr>\n",
       "    <tr>\n",
       "      <th>24593</th>\n",
       "      <td>most voted</td>\n",
       "      <td>select top 20 count(v.postid) as 'Vote count',...</td>\n",
       "    </tr>\n",
       "  </tbody>\n",
       "</table>\n",
       "<p>24594 rows × 2 columns</p>\n",
       "</div>"
      ],
      "text/plain": [
       "                                                   title  \\\n",
       "0                                         Repent 151-160   \n",
       "1      This is test data for my question to make thin...   \n",
       "2                                          Accept answer   \n",
       "3      Questions with most views created within 3 mon...   \n",
       "4                                  Most Prolific Answers   \n",
       "5                  Questions with the default image text   \n",
       "6                       Questions with most delete votes   \n",
       "7                                        Fastest answers   \n",
       "8                                     Bounty distibution   \n",
       "9      Is there a SEDE query to find number of up vot...   \n",
       "10                                       User's Post Age   \n",
       "11              Generic Query for Trending Multiple Tags   \n",
       "12                                     User Profile Test   \n",
       "13                            C# Gold bearers from India   \n",
       "14                              find duplicate questions   \n",
       "15                                  crate mine questions   \n",
       "16            Users with highst number of combined Views   \n",
       "17                                  Users average score.   \n",
       "18                                           Posts Table   \n",
       "19                     Questions with no accepted answer   \n",
       "20                               Roads API questions SBT   \n",
       "21                                            Most Posts   \n",
       "22                                       Lowest Rep/Post   \n",
       "23                  OP edits of a question after closure   \n",
       "24                  Top 100 posts with the most comments   \n",
       "25     All-uppercase Stack Overflow questions asked i...   \n",
       "26     Get User Info (Total answers and Accepted Answ...   \n",
       "27                                     downvotes by user   \n",
       "28                        My Top N Most Upvoted Comments   \n",
       "29                                          Ezm test foo   \n",
       "...                                                  ...   \n",
       "24564  High-Scoring Questions with Accepted Answers, ...   \n",
       "24565                        Proof that there are spaces   \n",
       "24566               Posts (Answers) based on a given tag   \n",
       "24567  Percentage of questions with at least one answ...   \n",
       "24568                         Tag Size and Growth Trends   \n",
       "24569       Deleted questions by month for specified tag   \n",
       "24570             Get answers with the most closed votes   \n",
       "24571                     Vocabulary Only Questions 2016   \n",
       "24572                            How rare are my badges?   \n",
       "24573                     Get other tags used with a tag   \n",
       "24574                                                SQL   \n",
       "24575                               Most Upvoted Answers   \n",
       "24576                                       compare tags   \n",
       "24577                                  Duplicate Answers   \n",
       "24578          Average answer length per user > 10K rep.   \n",
       "24579             Accepted Answers by User on given date   \n",
       "24580                             Popular ruby questions   \n",
       "24581                                          Post_java   \n",
       "24582                               Search user profiles   \n",
       "24583                         Review Count and Breakdown   \n",
       "24584                         WHERE filtering with times   \n",
       "24585                                 Edit-suitable tags   \n",
       "24586                 Answers Given To A Particular User   \n",
       "24587                                   Gaps in Posts Id   \n",
       "24588                         Get POST History of a POST   \n",
       "24589                      Metrics - Site - Basic Counts   \n",
       "24590                                               ssss   \n",
       "24591                  Top Italian users for Laravel tag   \n",
       "24592                                    Useless Indians   \n",
       "24593                                         most voted   \n",
       "\n",
       "                                               sql_plain  \n",
       "0      SELECT \\np.Title,p.score,p.ViewCount,p.AnswerC...  \n",
       "1      -- This is test data for my question to make t...  \n",
       "2      select Id\\nfrom Comments \\nwhere lower(Text) l...  \n",
       "3      DECLARE @From DATETIME = convert(DATETIME, '##...  \n",
       "4      -- Most Prolific Answerers (with score)\\n-- Sh...  \n",
       "5      SELECT Id AS [Post Link], Tags, Score FROM Pos...  \n",
       "6      select top 100 p.Id as [Post Link], max(p.Scor...  \n",
       "7      SELECT TOP 100\\n  q.OwnerUserId AS [User Link]...  \n",
       "8      with bounty_questions as (\\n  select max(1.0*a...  \n",
       "9      select count(*)\\nfrom votes v \\ninner join pos...  \n",
       "10     Select ntile(10) over (Order by DateDiff(d, Cr...  \n",
       "11     --Get the Tag IDs that you are interested in f...  \n",
       "12     DECLARE @userID numeric = ##UserID##\\n\\nSELECT...  \n",
       "13     WITH data\\n     AS (SELECT Rank() OVER (PARTIT...  \n",
       "14     -- TagName: Filter questions by this tag. Leav...  \n",
       "15     select dateadd(month, datediff(month, 0, q.Cre...  \n",
       "16     -- Users with highst number of combined Views\\...  \n",
       "17     -- Users sorted by average score.\\n-- Votes pe...  \n",
       "18     --Create Customer Temp table\\nCREATE TABLE #Cu...  \n",
       "19     -- Enter Query Title\\n-- Enter Query Descripti...  \n",
       "20     select i.Id, i.CreationDate, i.Title, i.Tags, ...  \n",
       "21               SELECT P.Id FROM POSTS AS P, USERS AS U  \n",
       "22     WITH TotalRep\\nAS\\n(\\n  SELECT \\n  P.OwnerUser...  \n",
       "23     select top 10 \\n  p.Id [Post Link]\\nfrom Posts...  \n",
       "24     SELECT TOP 20 Posts.Id as [Post Link], Comment...  \n",
       "25     SELECT PostId AS [Post Link],\\n       'http://...  \n",
       "26     -- Get User(s) Info\\n-- Returns the URL with t...  \n",
       "27     declare @user_id int = ##UserId:int##\\n\\nSELEC...  \n",
       "28     SELECT  * FROM Users \\nWHERE (Age = 39 and Loc...  \n",
       "29     select top(100) p.Id, p2.Id, p2.ParentId, p2.*...  \n",
       "...                                                  ...  \n",
       "24564  -- This query uses JOINs to show question scor...  \n",
       "24565  SELECT TOP 10 Body\\nFROM   Posts\\nWHERE  Owner...  \n",
       "24566  select DATENAME(yyyy, p.LastActivityDate) AS Y...  \n",
       "24567  SELECT\\n  DATEPART(week,CreationDate),\\n  CAST...  \n",
       "24568  DECLARE @Last30 datetime = '12/15/2012'\\n\\nSEL...  \n",
       "24569  DECLARE @tagcond nvarchar(25) = concat('%', ##...  \n",
       "24570  SELECT TOP 10 Posts.Id, ParentId, Count(*) AS ...  \n",
       "24571  select \\ntitle, \\nid as [Post Link], \\ntags, c...  \n",
       "24572  SELECT     mine.name AS [Badge Name],\\n       ...  \n",
       "24573  SELECT\\n  t2.tagname AS TagName,\\n  count(*) A...  \n",
       "24574  SELECT \\ntuser.Score\\nFROM users us\\nJOIN\\n(SE...  \n",
       "24575  -- Most Upvoted Answers of All Time\\n-- The mo...  \n",
       "24576  select *, count(*) from\\n(\\n  select CAST(\\n  ...  \n",
       "24577  SELECT body,Id, COUNT(*) AS numOccurences\\nFRO...  \n",
       "24578  SELECT\\n  u.Id AS [User Link],\\n  Count(*) AS ...  \n",
       "24579  -- Accepted Answer Statistics\\n\\nDECLARE @User...  \n",
       "24580  select posts.* from posts where posts.tags lik...  \n",
       "24581  select top 1 id, postid, [text]\\nfrom PostHist...  \n",
       "24582  select\\n  u.Id as [User Link],\\n  u.CreationDa...  \n",
       "24583  SELECT type.Name AS [Review Type],\\n       COU...  \n",
       "24584  SELECT * FROM dbo.Users WHERE CONVERT(TIME, Cr...  \n",
       "24585  SELECT * FROM Tags\\nWHERE ExcerptPostId IS NUL...  \n",
       "24586  DECLARE @QtnsUser int = ##QtnsUser##\\nDECLARE ...  \n",
       "24587  select Id+1 as [Id of deleted post], CreationD...  \n",
       "24588  SELECT\\n    POSTID As [Post Link],\\n    USERID...  \n",
       "24589  -- Metrics - Site - Basic Counts\\n-- Total amo...  \n",
       "24590                             select cast (1 as bit)  \n",
       "24591  SELECT ROW_NUMBER() OVER(ORDER BY tuser.Score ...  \n",
       "24592  -- TOP 100 users from Greece\\n-- Lists the top...  \n",
       "24593  select top 20 count(v.postid) as 'Vote count',...  \n",
       "\n",
       "[24594 rows x 2 columns]"
      ]
     },
     "execution_count": 10,
     "metadata": {},
     "output_type": "execute_result"
    }
   ],
   "source": [
    "df_trn"
   ]
  },
  {
   "cell_type": "code",
   "execution_count": 11,
   "metadata": {},
   "outputs": [],
   "source": [
    "df_trn.to_csv(str(PATH)+\"train.csv\", index=False, header=False)\n",
    "df_test.to_csv(str(PATH)+\"test.csv\", index=False, header=False)"
   ]
  },
  {
   "cell_type": "code",
   "execution_count": 10,
   "metadata": {},
   "outputs": [],
   "source": [
    "df_trn = pd.read_csv(str(PATH)+\"train.csv\", header=None)\n",
    "df_test= pd.read_csv(str(PATH)+\"test.csv\", header=None)"
   ]
  },
  {
   "cell_type": "code",
   "execution_count": 11,
   "metadata": {},
   "outputs": [
    {
     "data": {
      "text/plain": [
       "(24594, 2)"
      ]
     },
     "execution_count": 11,
     "metadata": {},
     "output_type": "execute_result"
    }
   ],
   "source": [
    "df_trn.shape"
   ]
  },
  {
   "cell_type": "code",
   "execution_count": 12,
   "metadata": {},
   "outputs": [
    {
     "data": {
      "text/plain": [
       "(296, 2)"
      ]
     },
     "execution_count": 12,
     "metadata": {},
     "output_type": "execute_result"
    }
   ],
   "source": [
    "df_test.shape"
   ]
  },
  {
   "cell_type": "code",
   "execution_count": 13,
   "metadata": {},
   "outputs": [],
   "source": [
    "df_lm = pd.concat((df_trn,df_test), axis=0)"
   ]
  },
  {
   "cell_type": "code",
   "execution_count": 9,
   "metadata": {},
   "outputs": [],
   "source": [
    "re1 = re.compile(r'  +')\n",
    "BOS = 'xbos'  # beginning-of-sentence tag\n",
    "FLD = 'xfld'  # data field tag\n",
    "\n",
    "def fixup(x):\n",
    "    x = x.replace('#39;', \"'\").replace('amp;', '&').replace('#146;', \"'\").replace(\n",
    "        'nbsp;', ' ').replace('#36;', '$').replace('\\\\n', \"\\n\").replace('quot;', \"'\").replace(\n",
    "        '<br />', \"\\n\").replace('\\\\\"', '\"').replace('<unk>','u_n').replace(' @.@ ','.').replace(\n",
    "        ' @-@ ','-').replace('\\\\', ' \\\\ ').replace(',', \", \")\n",
    "    return re1.sub(' ', html.unescape(x))\n",
    "\n",
    "def get_texts(df, n_lbls=1):\n",
    "    labels = df.iloc[:,range(n_lbls)].values#.astype(np.int64)\n",
    "    texts = f'\\n{BOS} {FLD} 1 ' + df[n_lbls].astype(str)\n",
    "    for i in range(n_lbls+1, len(df.columns)): texts += f' {FLD} {i-n_lbls} ' + df[i].astype(str)\n",
    "    texts = texts.apply(fixup).values.astype(str)\n",
    "\n",
    "    tok = Tokenizer().proc_all_mp(partition_by_cores(texts))\n",
    "    return tok, list(labels)\n",
    "\n",
    "def get_all(df, n_lbls):\n",
    "    tok, labels = [], []\n",
    "    for i, r in enumerate(df):\n",
    "        print(i)\n",
    "        tok_, labels_ = get_texts(r, n_lbls)\n",
    "        tok += tok_;\n",
    "        labels += labels_\n",
    "    return tok, labels"
   ]
  },
  {
   "cell_type": "code",
   "execution_count": 14,
   "metadata": {},
   "outputs": [],
   "source": [
    "tok_lm, _ = get_texts(df_lm, 1)"
   ]
  },
  {
   "cell_type": "code",
   "execution_count": 15,
   "metadata": {},
   "outputs": [],
   "source": [
    "freq = Counter(p for o in tok_lm for p in o)"
   ]
  },
  {
   "cell_type": "code",
   "execution_count": 16,
   "metadata": {},
   "outputs": [],
   "source": [
    "max_vocab = 60000\n",
    "min_freq = 2"
   ]
  },
  {
   "cell_type": "code",
   "execution_count": 17,
   "metadata": {},
   "outputs": [],
   "source": [
    "itos = [o for o,c in freq.most_common(max_vocab) if c>min_freq]\n",
    "itos.insert(0, '_pad_')\n",
    "itos.insert(0, '_unk_')"
   ]
  },
  {
   "cell_type": "code",
   "execution_count": 18,
   "metadata": {},
   "outputs": [
    {
     "data": {
      "text/plain": [
       "15120"
      ]
     },
     "execution_count": 18,
     "metadata": {},
     "output_type": "execute_result"
    }
   ],
   "source": [
    "stoi = collections.defaultdict(lambda:0, {v:k for k,v in enumerate(itos)})\n",
    "len(itos)"
   ]
  },
  {
   "cell_type": "code",
   "execution_count": 19,
   "metadata": {},
   "outputs": [],
   "source": [
    "trn_lm = np.array([[stoi[o] for o in p] for p in tok_lm])"
   ]
  },
  {
   "cell_type": "code",
   "execution_count": 20,
   "metadata": {},
   "outputs": [
    {
     "data": {
      "text/plain": [
       "(15120, 24890)"
      ]
     },
     "execution_count": 20,
     "metadata": {},
     "output_type": "execute_result"
    }
   ],
   "source": [
    "vs=len(itos)\n",
    "vs,len(trn_lm)"
   ]
  },
  {
   "cell_type": "code",
   "execution_count": 21,
   "metadata": {},
   "outputs": [],
   "source": [
    "em_sz,nh,nl = 400,1150,3\n",
    "wd=1e-7\n",
    "bptt=70\n",
    "bs=52\n",
    "opt_fn = partial(optim.Adam, betas=(0.8, 0.99))"
   ]
  },
  {
   "cell_type": "code",
   "execution_count": 22,
   "metadata": {},
   "outputs": [],
   "source": [
    "trn_dl = LanguageModelLoader(np.concatenate(trn_lm), bs, bptt)\n",
    "val_dl = LanguageModelLoader(np.concatenate(trn_lm), bs, bptt)"
   ]
  },
  {
   "cell_type": "code",
   "execution_count": 23,
   "metadata": {},
   "outputs": [],
   "source": [
    "md = LanguageModelData(PATH, 1, vs, trn_dl, val_dl)"
   ]
  },
  {
   "cell_type": "code",
   "execution_count": 24,
   "metadata": {},
   "outputs": [],
   "source": [
    "drops = np.array([0.25, 0.1, 0.2, 0.02, 0.15])*0.7"
   ]
  },
  {
   "cell_type": "code",
   "execution_count": 25,
   "metadata": {},
   "outputs": [],
   "source": [
    "learner= md.get_model(opt_fn, em_sz, nh, nl, \n",
    "    dropouti=drops[0], dropout=drops[1], wdrop=drops[2], dropoute=drops[3], dropouth=drops[4])\n",
    "\n",
    "learner.metrics = [accuracy]\n",
    "learner.unfreeze()"
   ]
  },
  {
   "cell_type": "code",
   "execution_count": 74,
   "metadata": {},
   "outputs": [
    {
     "data": {
      "application/vnd.jupyter.widget-view+json": {
       "model_id": "6cfb2c131a014bf6b0af031653976e92",
       "version_major": 2,
       "version_minor": 0
      },
      "text/html": [
       "<p>Failed to display Jupyter Widget of type <code>HBox</code>.</p>\n",
       "<p>\n",
       "  If you're reading this message in the Jupyter Notebook or JupyterLab Notebook, it may mean\n",
       "  that the widgets JavaScript is still loading. If this message persists, it\n",
       "  likely means that the widgets JavaScript library is either not installed or\n",
       "  not enabled. See the <a href=\"https://ipywidgets.readthedocs.io/en/stable/user_install.html\">Jupyter\n",
       "  Widgets Documentation</a> for setup instructions.\n",
       "</p>\n",
       "<p>\n",
       "  If you're reading this message in another frontend (for example, a static\n",
       "  rendering on GitHub or <a href=\"https://nbviewer.jupyter.org/\">NBViewer</a>),\n",
       "  it may mean that your frontend doesn't currently support widgets.\n",
       "</p>\n"
      ],
      "text/plain": [
       "HBox(children=(IntProgress(value=0, description='Epoch', max=1), HTML(value='')))"
      ]
     },
     "metadata": {},
     "output_type": "display_data"
    },
    {
     "name": "stdout",
     "output_type": "stream",
     "text": [
      " 72%|███████▏  | 485/669 [2:18:05<52:23, 17.08s/it, loss=23]  "
     ]
    }
   ],
   "source": [
    "learner.lr_find()"
   ]
  },
  {
   "cell_type": "code",
   "execution_count": 77,
   "metadata": {},
   "outputs": [
    {
     "data": {
      "image/png": "[encoded data removed]",
      "text/plain": [
       "<matplotlib.figure.Figure at 0x7f7e6afcfbe0>"
      ]
     },
     "metadata": {},
     "output_type": "display_data"
    }
   ],
   "source": [
    "learner.sched.plot()"
   ]
  },
  {
   "cell_type": "code",
   "execution_count": 26,
   "metadata": {},
   "outputs": [],
   "source": [
    "lr=8e-4\n",
    "lrs = lr"
   ]
  },
  {
   "cell_type": "code",
   "execution_count": 165,
   "metadata": {},
   "outputs": [
    {
     "data": {
      "application/vnd.jupyter.widget-view+json": {
       "model_id": "b5383d6a51db43d3bf2d0af26ea7526e",
       "version_major": 2,
       "version_minor": 0
      },
      "text/html": [
       "<p>Failed to display Jupyter Widget of type <code>HBox</code>.</p>\n",
       "<p>\n",
       "  If you're reading this message in the Jupyter Notebook or JupyterLab Notebook, it may mean\n",
       "  that the widgets JavaScript is still loading. If this message persists, it\n",
       "  likely means that the widgets JavaScript library is either not installed or\n",
       "  not enabled. See the <a href=\"https://ipywidgets.readthedocs.io/en/stable/user_install.html\">Jupyter\n",
       "  Widgets Documentation</a> for setup instructions.\n",
       "</p>\n",
       "<p>\n",
       "  If you're reading this message in another frontend (for example, a static\n",
       "  rendering on GitHub or <a href=\"https://nbviewer.jupyter.org/\">NBViewer</a>),\n",
       "  it may mean that your frontend doesn't currently support widgets.\n",
       "</p>\n"
      ],
      "text/plain": [
       "HBox(children=(IntProgress(value=0, description='Epoch', max=1), HTML(value='')))"
      ]
     },
     "metadata": {},
     "output_type": "display_data"
    },
    {
     "name": "stdout",
     "output_type": "stream",
     "text": [
      "epoch      trn_loss   val_loss   accuracy                   \n",
      "    0      4.652819   4.555349   0.199504  \n",
      "\n"
     ]
    },
    {
     "data": {
      "text/plain": [
       "[4.5553493, 0.19950446813897701]"
      ]
     },
     "execution_count": 165,
     "metadata": {},
     "output_type": "execute_result"
    }
   ],
   "source": [
    "learner.fit(lrs/2, 1, wds=wd, use_clr=(32,2), cycle_len=1)"
   ]
  },
  {
   "cell_type": "code",
   "execution_count": 29,
   "metadata": {},
   "outputs": [],
   "source": [
    "learner.save('lm_last_ft')"
   ]
  },
  {
   "cell_type": "code",
   "execution_count": 27,
   "metadata": {},
   "outputs": [],
   "source": [
    "learner.load('lm_last_ft')"
   ]
  },
  {
   "cell_type": "code",
   "execution_count": 28,
   "metadata": {},
   "outputs": [],
   "source": [
    "learner.unfreeze()"
   ]
  },
  {
   "cell_type": "code",
   "execution_count": 172,
   "metadata": {},
   "outputs": [
    {
     "data": {
      "application/vnd.jupyter.widget-view+json": {
       "model_id": "5417d20137f941a5bfbddf291fe62f58",
       "version_major": 2,
       "version_minor": 0
      },
      "text/html": [
       "<p>Failed to display Jupyter Widget of type <code>HBox</code>.</p>\n",
       "<p>\n",
       "  If you're reading this message in the Jupyter Notebook or JupyterLab Notebook, it may mean\n",
       "  that the widgets JavaScript is still loading. If this message persists, it\n",
       "  likely means that the widgets JavaScript library is either not installed or\n",
       "  not enabled. See the <a href=\"https://ipywidgets.readthedocs.io/en/stable/user_install.html\">Jupyter\n",
       "  Widgets Documentation</a> for setup instructions.\n",
       "</p>\n",
       "<p>\n",
       "  If you're reading this message in another frontend (for example, a static\n",
       "  rendering on GitHub or <a href=\"https://nbviewer.jupyter.org/\">NBViewer</a>),\n",
       "  it may mean that your frontend doesn't currently support widgets.\n",
       "</p>\n"
      ],
      "text/plain": [
       "HBox(children=(IntProgress(value=0, description='Epoch', max=15), HTML(value='')))"
      ]
     },
     "metadata": {},
     "output_type": "display_data"
    },
    {
     "name": "stdout",
     "output_type": "stream",
     "text": [
      "epoch      trn_loss   val_loss   accuracy                   \n",
      "    0      2.980805   2.79463    0.467613  \n",
      "    1      2.105871   2.004283   0.588952                   \n",
      "    2      1.770212   1.668232   0.643377                   \n",
      "    3      1.591637   1.466413   0.677594                   \n",
      "    4      1.455723   1.320104   0.703459                   \n",
      "    5      1.351965   1.210415   0.724306                   \n",
      "    6      1.258142   1.122119   0.741272                   \n",
      "    7      1.198309   1.047865   0.756488                   \n",
      "    8      1.136695   0.989424   0.76831                    \n",
      "    9      1.098699   0.936767   0.779464                   \n",
      "    10     1.062754   0.894572   0.788605                   \n",
      "    11     1.052453   0.860373   0.796523                   \n",
      "    12     1.010241   0.826484   0.804731                    \n",
      "    13     0.994387   0.803344   0.810086                    \n",
      "    14     0.987387   0.788586   0.813596                    \n",
      "\n"
     ]
    },
    {
     "data": {
      "text/plain": [
       "[0.78858626, 0.81359573677516306]"
      ]
     },
     "execution_count": 172,
     "metadata": {},
     "output_type": "execute_result"
    }
   ],
   "source": [
    "learner.fit(lrs, 1, wds=wd, use_clr=(20,10), cycle_len=15)"
   ]
  },
  {
   "cell_type": "code",
   "execution_count": 32,
   "metadata": {},
   "outputs": [],
   "source": [
    "learner.save('lm1')"
   ]
  },
  {
   "cell_type": "code",
   "execution_count": 33,
   "metadata": {},
   "outputs": [],
   "source": [
    "learner.save_encoder('lm1_enc')"
   ]
  },
  {
   "cell_type": "code",
   "execution_count": 29,
   "metadata": {},
   "outputs": [],
   "source": [
    "learner.load('lm1')\n",
    "learner.load_encoder('lm1_enc')"
   ]
  },
  {
   "cell_type": "code",
   "execution_count": 30,
   "metadata": {},
   "outputs": [],
   "source": [
    "tok = Tokenizer() "
   ]
  },
  {
   "cell_type": "code",
   "execution_count": null,
   "metadata": {
    "scrolled": true
   },
   "outputs": [],
   "source": [
    "ss=\"\"\"xbos xfld 1 select *\"\"\"\n",
    "s = [tok.spacy_tok(ss)]\n",
    "t = np.array([[stoi[o] for o in p] for p in s])\n",
    "' '.join(s[0])"
   ]
  },
  {
   "cell_type": "code",
   "execution_count": 71,
   "metadata": {},
   "outputs": [],
   "source": [
    "def tok_translate(inp,n):\n",
    "    s = [tok.spacy_tok(inp)]\n",
    "    tok_arr = np.array([[stoi[o] for o in p] for p in s])\n",
    "    output = inp\n",
    "    for i in range(n):\n",
    "        tok_idx = get_next(tok_arr)\n",
    "        word = itos[tok_idx]\n",
    "        output += \" \"\n",
    "        output += word\n",
    "        tok_arr = np.reshape(np.append(tok_arr[0][1:],[tok_idx]),(1,2))\n",
    "    return output\n",
    "def get_next(token):\n",
    "    probs = learner.model(V(token))\n",
    "    returnval = to_np(torch.multinomial(probs[0][-1].exp(), 1))[0]\n",
    "    return returnval"
   ]
  },
  {
   "cell_type": "code",
   "execution_count": 76,
   "metadata": {},
   "outputs": [
    {
     "data": {
      "text/plain": [
       "'select * from badges where _unk_ *'"
      ]
     },
     "execution_count": 76,
     "metadata": {},
     "output_type": "execute_result"
    }
   ],
   "source": [
    "tok_translate(\"\"\"select *\"\"\", 5)"
   ]
  },
  {
   "cell_type": "code",
   "execution_count": 102,
   "metadata": {},
   "outputs": [
    {
     "data": {
      "text/plain": [
       "'bronze'"
      ]
     },
     "execution_count": 102,
     "metadata": {},
     "output_type": "execute_result"
    }
   ],
   "source": [
    "itos[predictions[1][0][0][0].argmax()]"
   ]
  },
  {
   "cell_type": "code",
   "execution_count": 94,
   "metadata": {},
   "outputs": [],
   "source": [
    "first_prediction = predictions[0][0]\n",
    "second_prediction = predictions[0][1]"
   ]
  },
  {
   "cell_type": "code",
   "execution_count": 92,
   "metadata": {},
   "outputs": [
    {
     "data": {
      "text/plain": [
       "'tagname'"
      ]
     },
     "execution_count": 92,
     "metadata": {},
     "output_type": "execute_result"
    }
   ],
   "source": [
    "itos[70]"
   ]
  },
  {
   "cell_type": "code",
   "execution_count": 93,
   "metadata": {},
   "outputs": [
    {
     "data": {
      "text/plain": [
       "'tagname'"
      ]
     },
     "execution_count": 93,
     "metadata": {},
     "output_type": "execute_result"
    }
   ],
   "source": [
    "itos[first_prediction.argmax()]"
   ]
  },
  {
   "cell_type": "code",
   "execution_count": 95,
   "metadata": {},
   "outputs": [
    {
     "data": {
      "text/plain": [
       "'\\n'"
      ]
     },
     "execution_count": 95,
     "metadata": {},
     "output_type": "execute_result"
    }
   ],
   "source": [
    "itos[second_prediction.argmax()]"
   ]
  },
  {
   "cell_type": "code",
   "execution_count": 74,
   "metadata": {},
   "outputs": [
    {
     "ename": "ValueError",
     "evalue": "could not broadcast input array from shape (2,1150) into shape (1,2)",
     "output_type": "error",
     "traceback": [
      "\u001b[0;31m---------------------------------------------------------------------------\u001b[0m",
      "\u001b[0;31mAttributeError\u001b[0m                            Traceback (most recent call last)",
      "\u001b[0;32m~/anaconda3/envs/fastai/lib/python3.6/site-packages/numpy/core/fromnumeric.py\u001b[0m in \u001b[0;36m_wrapfunc\u001b[0;34m(obj, method, *args, **kwds)\u001b[0m\n\u001b[1;32m     56\u001b[0m     \u001b[0;32mtry\u001b[0m\u001b[0;34m:\u001b[0m\u001b[0;34m\u001b[0m\u001b[0m\n\u001b[0;32m---> 57\u001b[0;31m         \u001b[0;32mreturn\u001b[0m \u001b[0mgetattr\u001b[0m\u001b[0;34m(\u001b[0m\u001b[0mobj\u001b[0m\u001b[0;34m,\u001b[0m \u001b[0mmethod\u001b[0m\u001b[0;34m)\u001b[0m\u001b[0;34m(\u001b[0m\u001b[0;34m*\u001b[0m\u001b[0margs\u001b[0m\u001b[0;34m,\u001b[0m \u001b[0;34m**\u001b[0m\u001b[0mkwds\u001b[0m\u001b[0;34m)\u001b[0m\u001b[0;34m\u001b[0m\u001b[0m\n\u001b[0m\u001b[1;32m     58\u001b[0m \u001b[0;34m\u001b[0m\u001b[0m\n",
      "\u001b[0;31mAttributeError\u001b[0m: 'list' object has no attribute 'argmax'",
      "\nDuring handling of the above exception, another exception occurred:\n",
      "\u001b[0;31mValueError\u001b[0m                                Traceback (most recent call last)",
      "\u001b[0;32m<ipython-input-74-869743e40f93>\u001b[0m in \u001b[0;36m<module>\u001b[0;34m()\u001b[0m\n\u001b[0;32m----> 1\u001b[0;31m \u001b[0mnp\u001b[0m\u001b[0;34m.\u001b[0m\u001b[0margmax\u001b[0m\u001b[0;34m(\u001b[0m\u001b[0mpredictions\u001b[0m\u001b[0;34m)\u001b[0m\u001b[0;34m\u001b[0m\u001b[0m\n\u001b[0m",
      "\u001b[0;32m~/anaconda3/envs/fastai/lib/python3.6/site-packages/numpy/core/fromnumeric.py\u001b[0m in \u001b[0;36margmax\u001b[0;34m(a, axis, out)\u001b[0m\n\u001b[1;32m    961\u001b[0m \u001b[0;34m\u001b[0m\u001b[0m\n\u001b[1;32m    962\u001b[0m     \"\"\"\n\u001b[0;32m--> 963\u001b[0;31m     \u001b[0;32mreturn\u001b[0m \u001b[0m_wrapfunc\u001b[0m\u001b[0;34m(\u001b[0m\u001b[0ma\u001b[0m\u001b[0;34m,\u001b[0m \u001b[0;34m'argmax'\u001b[0m\u001b[0;34m,\u001b[0m \u001b[0maxis\u001b[0m\u001b[0;34m=\u001b[0m\u001b[0maxis\u001b[0m\u001b[0;34m,\u001b[0m \u001b[0mout\u001b[0m\u001b[0;34m=\u001b[0m\u001b[0mout\u001b[0m\u001b[0;34m)\u001b[0m\u001b[0;34m\u001b[0m\u001b[0m\n\u001b[0m\u001b[1;32m    964\u001b[0m \u001b[0;34m\u001b[0m\u001b[0m\n\u001b[1;32m    965\u001b[0m \u001b[0;34m\u001b[0m\u001b[0m\n",
      "\u001b[0;32m~/anaconda3/envs/fastai/lib/python3.6/site-packages/numpy/core/fromnumeric.py\u001b[0m in \u001b[0;36m_wrapfunc\u001b[0;34m(obj, method, *args, **kwds)\u001b[0m\n\u001b[1;32m     65\u001b[0m     \u001b[0;31m# a downstream library like 'pandas'.\u001b[0m\u001b[0;34m\u001b[0m\u001b[0;34m\u001b[0m\u001b[0m\n\u001b[1;32m     66\u001b[0m     \u001b[0;32mexcept\u001b[0m \u001b[0;34m(\u001b[0m\u001b[0mAttributeError\u001b[0m\u001b[0;34m,\u001b[0m \u001b[0mTypeError\u001b[0m\u001b[0;34m)\u001b[0m\u001b[0;34m:\u001b[0m\u001b[0;34m\u001b[0m\u001b[0m\n\u001b[0;32m---> 67\u001b[0;31m         \u001b[0;32mreturn\u001b[0m \u001b[0m_wrapit\u001b[0m\u001b[0;34m(\u001b[0m\u001b[0mobj\u001b[0m\u001b[0;34m,\u001b[0m \u001b[0mmethod\u001b[0m\u001b[0;34m,\u001b[0m \u001b[0;34m*\u001b[0m\u001b[0margs\u001b[0m\u001b[0;34m,\u001b[0m \u001b[0;34m**\u001b[0m\u001b[0mkwds\u001b[0m\u001b[0;34m)\u001b[0m\u001b[0;34m\u001b[0m\u001b[0m\n\u001b[0m\u001b[1;32m     68\u001b[0m \u001b[0;34m\u001b[0m\u001b[0m\n\u001b[1;32m     69\u001b[0m \u001b[0;34m\u001b[0m\u001b[0m\n",
      "\u001b[0;32m~/anaconda3/envs/fastai/lib/python3.6/site-packages/numpy/core/fromnumeric.py\u001b[0m in \u001b[0;36m_wrapit\u001b[0;34m(obj, method, *args, **kwds)\u001b[0m\n\u001b[1;32m     45\u001b[0m     \u001b[0;32mexcept\u001b[0m \u001b[0mAttributeError\u001b[0m\u001b[0;34m:\u001b[0m\u001b[0;34m\u001b[0m\u001b[0m\n\u001b[1;32m     46\u001b[0m         \u001b[0mwrap\u001b[0m \u001b[0;34m=\u001b[0m \u001b[0;32mNone\u001b[0m\u001b[0;34m\u001b[0m\u001b[0m\n\u001b[0;32m---> 47\u001b[0;31m     \u001b[0mresult\u001b[0m \u001b[0;34m=\u001b[0m \u001b[0mgetattr\u001b[0m\u001b[0;34m(\u001b[0m\u001b[0masarray\u001b[0m\u001b[0;34m(\u001b[0m\u001b[0mobj\u001b[0m\u001b[0;34m)\u001b[0m\u001b[0;34m,\u001b[0m \u001b[0mmethod\u001b[0m\u001b[0;34m)\u001b[0m\u001b[0;34m(\u001b[0m\u001b[0;34m*\u001b[0m\u001b[0margs\u001b[0m\u001b[0;34m,\u001b[0m \u001b[0;34m**\u001b[0m\u001b[0mkwds\u001b[0m\u001b[0;34m)\u001b[0m\u001b[0;34m\u001b[0m\u001b[0m\n\u001b[0m\u001b[1;32m     48\u001b[0m     \u001b[0;32mif\u001b[0m \u001b[0mwrap\u001b[0m\u001b[0;34m:\u001b[0m\u001b[0;34m\u001b[0m\u001b[0m\n\u001b[1;32m     49\u001b[0m         \u001b[0;32mif\u001b[0m \u001b[0;32mnot\u001b[0m \u001b[0misinstance\u001b[0m\u001b[0;34m(\u001b[0m\u001b[0mresult\u001b[0m\u001b[0;34m,\u001b[0m \u001b[0mmu\u001b[0m\u001b[0;34m.\u001b[0m\u001b[0mndarray\u001b[0m\u001b[0;34m)\u001b[0m\u001b[0;34m:\u001b[0m\u001b[0;34m\u001b[0m\u001b[0m\n",
      "\u001b[0;31mValueError\u001b[0m: could not broadcast input array from shape (2,1150) into shape (1,2)"
     ]
    }
   ],
   "source": [
    "np.argmax(predictions)"
   ]
  }
 ],
 "metadata": {
  "_draft": {
   "nbviewer_url": "https://gist.github.com/b6bca91e9fbd37bf43c44d7c13c68e6f"
  },
  "gist": {
   "data": {
    "description": "tmp_askdb.ipynb",
    "public": false
   },
   "id": "b6bca91e9fbd37bf43c44d7c13c68e6f"
  },
  "kernelspec": {
   "display_name": "Python 3",
   "language": "python",
   "name": "python3"
  },
  "language_info": {
   "codemirror_mode": {
    "name": "ipython",
    "version": 3
   },
   "file_extension": ".py",
   "mimetype": "text/x-python",
   "name": "python",
   "nbconvert_exporter": "python",
   "pygments_lexer": "ipython3",
   "version": "3.6.3"
  }
 },
 "nbformat": 4,
 "nbformat_minor": 2
}
